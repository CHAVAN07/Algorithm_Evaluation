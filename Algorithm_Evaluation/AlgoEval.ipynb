{
 "cells": [
  {
   "attachments": {},
   "cell_type": "markdown",
   "metadata": {},
   "source": [
    "ALGORITHM EVALUATION "
   ]
  },
  {
   "cell_type": "code",
   "execution_count": 2,
   "metadata": {},
   "outputs": [],
   "source": [
    "from warnings import filterwarnings\n",
    "filterwarnings('ignore')"
   ]
  },
  {
   "attachments": {},
   "cell_type": "markdown",
   "metadata": {},
   "source": [
    "READ THE DATASET"
   ]
  },
  {
   "cell_type": "code",
   "execution_count": 3,
   "metadata": {},
   "outputs": [
    {
     "data": {
      "text/html": [
       "<div>\n",
       "<style scoped>\n",
       "    .dataframe tbody tr th:only-of-type {\n",
       "        vertical-align: middle;\n",
       "    }\n",
       "\n",
       "    .dataframe tbody tr th {\n",
       "        vertical-align: top;\n",
       "    }\n",
       "\n",
       "    .dataframe thead th {\n",
       "        text-align: right;\n",
       "    }\n",
       "</style>\n",
       "<table border=\"1\" class=\"dataframe\">\n",
       "  <thead>\n",
       "    <tr style=\"text-align: right;\">\n",
       "      <th></th>\n",
       "      <th>PassengerId</th>\n",
       "      <th>Survived</th>\n",
       "      <th>Pclass</th>\n",
       "      <th>Name</th>\n",
       "      <th>Sex</th>\n",
       "      <th>Age</th>\n",
       "      <th>SibSp</th>\n",
       "      <th>Parch</th>\n",
       "      <th>Ticket</th>\n",
       "      <th>Fare</th>\n",
       "      <th>Cabin</th>\n",
       "      <th>Embarked</th>\n",
       "    </tr>\n",
       "  </thead>\n",
       "  <tbody>\n",
       "    <tr>\n",
       "      <th>0</th>\n",
       "      <td>1</td>\n",
       "      <td>0</td>\n",
       "      <td>3</td>\n",
       "      <td>Braund, Mr. Owen Harris</td>\n",
       "      <td>male</td>\n",
       "      <td>22.0</td>\n",
       "      <td>1</td>\n",
       "      <td>0</td>\n",
       "      <td>A/5 21171</td>\n",
       "      <td>7.2500</td>\n",
       "      <td>NaN</td>\n",
       "      <td>S</td>\n",
       "    </tr>\n",
       "    <tr>\n",
       "      <th>1</th>\n",
       "      <td>2</td>\n",
       "      <td>1</td>\n",
       "      <td>1</td>\n",
       "      <td>Cumings, Mrs. John Bradley (Florence Briggs Th...</td>\n",
       "      <td>female</td>\n",
       "      <td>38.0</td>\n",
       "      <td>1</td>\n",
       "      <td>0</td>\n",
       "      <td>PC 17599</td>\n",
       "      <td>71.2833</td>\n",
       "      <td>C85</td>\n",
       "      <td>C</td>\n",
       "    </tr>\n",
       "    <tr>\n",
       "      <th>2</th>\n",
       "      <td>3</td>\n",
       "      <td>1</td>\n",
       "      <td>3</td>\n",
       "      <td>Heikkinen, Miss. Laina</td>\n",
       "      <td>female</td>\n",
       "      <td>26.0</td>\n",
       "      <td>0</td>\n",
       "      <td>0</td>\n",
       "      <td>STON/O2. 3101282</td>\n",
       "      <td>7.9250</td>\n",
       "      <td>NaN</td>\n",
       "      <td>S</td>\n",
       "    </tr>\n",
       "    <tr>\n",
       "      <th>3</th>\n",
       "      <td>4</td>\n",
       "      <td>1</td>\n",
       "      <td>1</td>\n",
       "      <td>Futrelle, Mrs. Jacques Heath (Lily May Peel)</td>\n",
       "      <td>female</td>\n",
       "      <td>35.0</td>\n",
       "      <td>1</td>\n",
       "      <td>0</td>\n",
       "      <td>113803</td>\n",
       "      <td>53.1000</td>\n",
       "      <td>C123</td>\n",
       "      <td>S</td>\n",
       "    </tr>\n",
       "    <tr>\n",
       "      <th>4</th>\n",
       "      <td>5</td>\n",
       "      <td>0</td>\n",
       "      <td>3</td>\n",
       "      <td>Allen, Mr. William Henry</td>\n",
       "      <td>male</td>\n",
       "      <td>35.0</td>\n",
       "      <td>0</td>\n",
       "      <td>0</td>\n",
       "      <td>373450</td>\n",
       "      <td>8.0500</td>\n",
       "      <td>NaN</td>\n",
       "      <td>S</td>\n",
       "    </tr>\n",
       "    <tr>\n",
       "      <th>...</th>\n",
       "      <td>...</td>\n",
       "      <td>...</td>\n",
       "      <td>...</td>\n",
       "      <td>...</td>\n",
       "      <td>...</td>\n",
       "      <td>...</td>\n",
       "      <td>...</td>\n",
       "      <td>...</td>\n",
       "      <td>...</td>\n",
       "      <td>...</td>\n",
       "      <td>...</td>\n",
       "      <td>...</td>\n",
       "    </tr>\n",
       "    <tr>\n",
       "      <th>886</th>\n",
       "      <td>887</td>\n",
       "      <td>0</td>\n",
       "      <td>2</td>\n",
       "      <td>Montvila, Rev. Juozas</td>\n",
       "      <td>male</td>\n",
       "      <td>27.0</td>\n",
       "      <td>0</td>\n",
       "      <td>0</td>\n",
       "      <td>211536</td>\n",
       "      <td>13.0000</td>\n",
       "      <td>NaN</td>\n",
       "      <td>S</td>\n",
       "    </tr>\n",
       "    <tr>\n",
       "      <th>887</th>\n",
       "      <td>888</td>\n",
       "      <td>1</td>\n",
       "      <td>1</td>\n",
       "      <td>Graham, Miss. Margaret Edith</td>\n",
       "      <td>female</td>\n",
       "      <td>19.0</td>\n",
       "      <td>0</td>\n",
       "      <td>0</td>\n",
       "      <td>112053</td>\n",
       "      <td>30.0000</td>\n",
       "      <td>B42</td>\n",
       "      <td>S</td>\n",
       "    </tr>\n",
       "    <tr>\n",
       "      <th>888</th>\n",
       "      <td>889</td>\n",
       "      <td>0</td>\n",
       "      <td>3</td>\n",
       "      <td>Johnston, Miss. Catherine Helen \"Carrie\"</td>\n",
       "      <td>female</td>\n",
       "      <td>NaN</td>\n",
       "      <td>1</td>\n",
       "      <td>2</td>\n",
       "      <td>W./C. 6607</td>\n",
       "      <td>23.4500</td>\n",
       "      <td>NaN</td>\n",
       "      <td>S</td>\n",
       "    </tr>\n",
       "    <tr>\n",
       "      <th>889</th>\n",
       "      <td>890</td>\n",
       "      <td>1</td>\n",
       "      <td>1</td>\n",
       "      <td>Behr, Mr. Karl Howell</td>\n",
       "      <td>male</td>\n",
       "      <td>26.0</td>\n",
       "      <td>0</td>\n",
       "      <td>0</td>\n",
       "      <td>111369</td>\n",
       "      <td>30.0000</td>\n",
       "      <td>C148</td>\n",
       "      <td>C</td>\n",
       "    </tr>\n",
       "    <tr>\n",
       "      <th>890</th>\n",
       "      <td>891</td>\n",
       "      <td>0</td>\n",
       "      <td>3</td>\n",
       "      <td>Dooley, Mr. Patrick</td>\n",
       "      <td>male</td>\n",
       "      <td>32.0</td>\n",
       "      <td>0</td>\n",
       "      <td>0</td>\n",
       "      <td>370376</td>\n",
       "      <td>7.7500</td>\n",
       "      <td>NaN</td>\n",
       "      <td>Q</td>\n",
       "    </tr>\n",
       "  </tbody>\n",
       "</table>\n",
       "<p>891 rows × 12 columns</p>\n",
       "</div>"
      ],
      "text/plain": [
       "     PassengerId  Survived  Pclass  \\\n",
       "0              1         0       3   \n",
       "1              2         1       1   \n",
       "2              3         1       3   \n",
       "3              4         1       1   \n",
       "4              5         0       3   \n",
       "..           ...       ...     ...   \n",
       "886          887         0       2   \n",
       "887          888         1       1   \n",
       "888          889         0       3   \n",
       "889          890         1       1   \n",
       "890          891         0       3   \n",
       "\n",
       "                                                  Name     Sex   Age  SibSp  \\\n",
       "0                              Braund, Mr. Owen Harris    male  22.0      1   \n",
       "1    Cumings, Mrs. John Bradley (Florence Briggs Th...  female  38.0      1   \n",
       "2                               Heikkinen, Miss. Laina  female  26.0      0   \n",
       "3         Futrelle, Mrs. Jacques Heath (Lily May Peel)  female  35.0      1   \n",
       "4                             Allen, Mr. William Henry    male  35.0      0   \n",
       "..                                                 ...     ...   ...    ...   \n",
       "886                              Montvila, Rev. Juozas    male  27.0      0   \n",
       "887                       Graham, Miss. Margaret Edith  female  19.0      0   \n",
       "888           Johnston, Miss. Catherine Helen \"Carrie\"  female   NaN      1   \n",
       "889                              Behr, Mr. Karl Howell    male  26.0      0   \n",
       "890                                Dooley, Mr. Patrick    male  32.0      0   \n",
       "\n",
       "     Parch            Ticket     Fare Cabin Embarked  \n",
       "0        0         A/5 21171   7.2500   NaN        S  \n",
       "1        0          PC 17599  71.2833   C85        C  \n",
       "2        0  STON/O2. 3101282   7.9250   NaN        S  \n",
       "3        0            113803  53.1000  C123        S  \n",
       "4        0            373450   8.0500   NaN        S  \n",
       "..     ...               ...      ...   ...      ...  \n",
       "886      0            211536  13.0000   NaN        S  \n",
       "887      0            112053  30.0000   B42        S  \n",
       "888      2        W./C. 6607  23.4500   NaN        S  \n",
       "889      0            111369  30.0000  C148        C  \n",
       "890      0            370376   7.7500   NaN        Q  \n",
       "\n",
       "[891 rows x 12 columns]"
      ]
     },
     "execution_count": 3,
     "metadata": {},
     "output_type": "execute_result"
    }
   ],
   "source": [
    " import pandas as pd\n",
    " df = pd.read_csv('C:/Datasets/train_titanic.csv')\n",
    " df"
   ]
  },
  {
   "cell_type": "code",
   "execution_count": 4,
   "metadata": {},
   "outputs": [
    {
     "name": "stdout",
     "output_type": "stream",
     "text": [
      "<class 'pandas.core.frame.DataFrame'>\n",
      "RangeIndex: 891 entries, 0 to 890\n",
      "Data columns (total 12 columns):\n",
      " #   Column       Non-Null Count  Dtype  \n",
      "---  ------       --------------  -----  \n",
      " 0   PassengerId  891 non-null    int64  \n",
      " 1   Survived     891 non-null    int64  \n",
      " 2   Pclass       891 non-null    int64  \n",
      " 3   Name         891 non-null    object \n",
      " 4   Sex          891 non-null    object \n",
      " 5   Age          714 non-null    float64\n",
      " 6   SibSp        891 non-null    int64  \n",
      " 7   Parch        891 non-null    int64  \n",
      " 8   Ticket       891 non-null    object \n",
      " 9   Fare         891 non-null    float64\n",
      " 10  Cabin        204 non-null    object \n",
      " 11  Embarked     889 non-null    object \n",
      "dtypes: float64(2), int64(5), object(5)\n",
      "memory usage: 83.7+ KB\n"
     ]
    }
   ],
   "source": [
    "df.info()"
   ]
  },
  {
   "attachments": {},
   "cell_type": "markdown",
   "metadata": {},
   "source": [
    "SEPARATE X AND Y "
   ]
  },
  {
   "cell_type": "code",
   "execution_count": 5,
   "metadata": {},
   "outputs": [],
   "source": [
    "X = df.drop(labels=['PassengerId','Name','Survived'],axis=1)\n",
    "Y = df[['Survived']]"
   ]
  },
  {
   "cell_type": "code",
   "execution_count": 6,
   "metadata": {},
   "outputs": [
    {
     "data": {
      "text/html": [
       "<div>\n",
       "<style scoped>\n",
       "    .dataframe tbody tr th:only-of-type {\n",
       "        vertical-align: middle;\n",
       "    }\n",
       "\n",
       "    .dataframe tbody tr th {\n",
       "        vertical-align: top;\n",
       "    }\n",
       "\n",
       "    .dataframe thead th {\n",
       "        text-align: right;\n",
       "    }\n",
       "</style>\n",
       "<table border=\"1\" class=\"dataframe\">\n",
       "  <thead>\n",
       "    <tr style=\"text-align: right;\">\n",
       "      <th></th>\n",
       "      <th>Pclass</th>\n",
       "      <th>Sex</th>\n",
       "      <th>Age</th>\n",
       "      <th>SibSp</th>\n",
       "      <th>Parch</th>\n",
       "      <th>Ticket</th>\n",
       "      <th>Fare</th>\n",
       "      <th>Cabin</th>\n",
       "      <th>Embarked</th>\n",
       "    </tr>\n",
       "  </thead>\n",
       "  <tbody>\n",
       "    <tr>\n",
       "      <th>0</th>\n",
       "      <td>3</td>\n",
       "      <td>male</td>\n",
       "      <td>22.0</td>\n",
       "      <td>1</td>\n",
       "      <td>0</td>\n",
       "      <td>A/5 21171</td>\n",
       "      <td>7.2500</td>\n",
       "      <td>NaN</td>\n",
       "      <td>S</td>\n",
       "    </tr>\n",
       "    <tr>\n",
       "      <th>1</th>\n",
       "      <td>1</td>\n",
       "      <td>female</td>\n",
       "      <td>38.0</td>\n",
       "      <td>1</td>\n",
       "      <td>0</td>\n",
       "      <td>PC 17599</td>\n",
       "      <td>71.2833</td>\n",
       "      <td>C85</td>\n",
       "      <td>C</td>\n",
       "    </tr>\n",
       "    <tr>\n",
       "      <th>2</th>\n",
       "      <td>3</td>\n",
       "      <td>female</td>\n",
       "      <td>26.0</td>\n",
       "      <td>0</td>\n",
       "      <td>0</td>\n",
       "      <td>STON/O2. 3101282</td>\n",
       "      <td>7.9250</td>\n",
       "      <td>NaN</td>\n",
       "      <td>S</td>\n",
       "    </tr>\n",
       "    <tr>\n",
       "      <th>3</th>\n",
       "      <td>1</td>\n",
       "      <td>female</td>\n",
       "      <td>35.0</td>\n",
       "      <td>1</td>\n",
       "      <td>0</td>\n",
       "      <td>113803</td>\n",
       "      <td>53.1000</td>\n",
       "      <td>C123</td>\n",
       "      <td>S</td>\n",
       "    </tr>\n",
       "    <tr>\n",
       "      <th>4</th>\n",
       "      <td>3</td>\n",
       "      <td>male</td>\n",
       "      <td>35.0</td>\n",
       "      <td>0</td>\n",
       "      <td>0</td>\n",
       "      <td>373450</td>\n",
       "      <td>8.0500</td>\n",
       "      <td>NaN</td>\n",
       "      <td>S</td>\n",
       "    </tr>\n",
       "  </tbody>\n",
       "</table>\n",
       "</div>"
      ],
      "text/plain": [
       "   Pclass     Sex   Age  SibSp  Parch            Ticket     Fare Cabin  \\\n",
       "0       3    male  22.0      1      0         A/5 21171   7.2500   NaN   \n",
       "1       1  female  38.0      1      0          PC 17599  71.2833   C85   \n",
       "2       3  female  26.0      0      0  STON/O2. 3101282   7.9250   NaN   \n",
       "3       1  female  35.0      1      0            113803  53.1000  C123   \n",
       "4       3    male  35.0      0      0            373450   8.0500   NaN   \n",
       "\n",
       "  Embarked  \n",
       "0        S  \n",
       "1        C  \n",
       "2        S  \n",
       "3        S  \n",
       "4        S  "
      ]
     },
     "execution_count": 6,
     "metadata": {},
     "output_type": "execute_result"
    }
   ],
   "source": [
    "X.head()"
   ]
  },
  {
   "cell_type": "code",
   "execution_count": 7,
   "metadata": {},
   "outputs": [
    {
     "data": {
      "text/html": [
       "<div>\n",
       "<style scoped>\n",
       "    .dataframe tbody tr th:only-of-type {\n",
       "        vertical-align: middle;\n",
       "    }\n",
       "\n",
       "    .dataframe tbody tr th {\n",
       "        vertical-align: top;\n",
       "    }\n",
       "\n",
       "    .dataframe thead th {\n",
       "        text-align: right;\n",
       "    }\n",
       "</style>\n",
       "<table border=\"1\" class=\"dataframe\">\n",
       "  <thead>\n",
       "    <tr style=\"text-align: right;\">\n",
       "      <th></th>\n",
       "      <th>Survived</th>\n",
       "    </tr>\n",
       "  </thead>\n",
       "  <tbody>\n",
       "    <tr>\n",
       "      <th>0</th>\n",
       "      <td>0</td>\n",
       "    </tr>\n",
       "    <tr>\n",
       "      <th>1</th>\n",
       "      <td>1</td>\n",
       "    </tr>\n",
       "    <tr>\n",
       "      <th>2</th>\n",
       "      <td>1</td>\n",
       "    </tr>\n",
       "    <tr>\n",
       "      <th>3</th>\n",
       "      <td>1</td>\n",
       "    </tr>\n",
       "    <tr>\n",
       "      <th>4</th>\n",
       "      <td>0</td>\n",
       "    </tr>\n",
       "  </tbody>\n",
       "</table>\n",
       "</div>"
      ],
      "text/plain": [
       "   Survived\n",
       "0         0\n",
       "1         1\n",
       "2         1\n",
       "3         1\n",
       "4         0"
      ]
     },
     "execution_count": 7,
     "metadata": {},
     "output_type": "execute_result"
    }
   ],
   "source": [
    "Y.head()"
   ]
  },
  {
   "attachments": {},
   "cell_type": "markdown",
   "metadata": {},
   "source": [
    "CAT CON SEPARATION X"
   ]
  },
  {
   "cell_type": "code",
   "execution_count": 8,
   "metadata": {},
   "outputs": [],
   "source": [
    "cat = list(X.columns[X.dtypes=='object'])\n",
    "con = list(X.columns[X.dtypes!='object'])"
   ]
  },
  {
   "cell_type": "code",
   "execution_count": 9,
   "metadata": {},
   "outputs": [
    {
     "data": {
      "text/plain": [
       "['Sex', 'Ticket', 'Cabin', 'Embarked']"
      ]
     },
     "execution_count": 9,
     "metadata": {},
     "output_type": "execute_result"
    }
   ],
   "source": [
    "cat"
   ]
  },
  {
   "cell_type": "code",
   "execution_count": 10,
   "metadata": {},
   "outputs": [
    {
     "data": {
      "text/plain": [
       "['Pclass', 'Age', 'SibSp', 'Parch', 'Fare']"
      ]
     },
     "execution_count": 10,
     "metadata": {},
     "output_type": "execute_result"
    }
   ],
   "source": [
    "con"
   ]
  },
  {
   "cell_type": "code",
   "execution_count": 11,
   "metadata": {},
   "outputs": [],
   "source": [
    "cat1 = ['Cabin']\n",
    "cat2 = ['Sex', 'Ticket', 'Cabin', 'Embarked']"
   ]
  },
  {
   "attachments": {},
   "cell_type": "markdown",
   "metadata": {},
   "source": [
    "BUILD SKLEARN PIPELINE"
   ]
  },
  {
   "cell_type": "code",
   "execution_count": 12,
   "metadata": {},
   "outputs": [],
   "source": [
    "from sklearn.pipeline import Pipeline\n",
    "from sklearn.impute import SimpleImputer\n",
    "from sklearn.preprocessing import OneHotEncoder,StandardScaler\n",
    "from sklearn.compose import ColumnTransformer"
   ]
  },
  {
   "cell_type": "code",
   "execution_count": 13,
   "metadata": {},
   "outputs": [],
   "source": [
    "num_pipe = Pipeline(steps=[('imputer',SimpleImputer(strategy='median')),\n",
    "                           ('scaler',StandardScaler())])\n",
    "\n",
    "cat_pipe1 = Pipeline(steps=[('imputer',SimpleImputer(strategy='constant',fill_value='unknown')),\n",
    "                            ('ohe',OneHotEncoder(handle_unknown='ignore'))])\n",
    "\n",
    "cat_pipe2 = Pipeline(steps=[('imputer',SimpleImputer(strategy='most_frequent')),\n",
    "                            ('ohe',OneHotEncoder(handle_unknown='ignore'))])\n",
    "\n",
    "pre = ColumnTransformer([('num',num_pipe,con),\n",
    "                         ('cat1',cat_pipe1,cat1),\n",
    "                         ('cat2',cat_pipe2,cat2)])"
   ]
  },
  {
   "cell_type": "code",
   "execution_count": 14,
   "metadata": {},
   "outputs": [
    {
     "data": {
      "text/plain": [
       "array([[ 0.82737724, -0.56573646,  0.43279337, ...,  0.        ,\n",
       "         0.        ,  1.        ],\n",
       "       [-1.56610693,  0.66386103,  0.43279337, ...,  1.        ,\n",
       "         0.        ,  0.        ],\n",
       "       [ 0.82737724, -0.25833709, -0.4745452 , ...,  0.        ,\n",
       "         0.        ,  1.        ],\n",
       "       ...,\n",
       "       [ 0.82737724, -0.1046374 ,  0.43279337, ...,  0.        ,\n",
       "         0.        ,  1.        ],\n",
       "       [-1.56610693, -0.25833709, -0.4745452 , ...,  1.        ,\n",
       "         0.        ,  0.        ],\n",
       "       [ 0.82737724,  0.20276197, -0.4745452 , ...,  0.        ,\n",
       "         1.        ,  0.        ]])"
      ]
     },
     "execution_count": 14,
     "metadata": {},
     "output_type": "execute_result"
    }
   ],
   "source": [
    "X_pre = pre.fit_transform(X).toarray()\n",
    "X_pre"
   ]
  },
  {
   "cell_type": "code",
   "execution_count": 15,
   "metadata": {},
   "outputs": [
    {
     "data": {
      "text/plain": [
       "array(['num__Pclass', 'num__Age', 'num__SibSp', 'num__Parch', 'num__Fare',\n",
       "       'cat1__Cabin_A10', 'cat1__Cabin_A14', 'cat1__Cabin_A16',\n",
       "       'cat1__Cabin_A19', 'cat1__Cabin_A20', 'cat1__Cabin_A23',\n",
       "       'cat1__Cabin_A24', 'cat1__Cabin_A26', 'cat1__Cabin_A31',\n",
       "       'cat1__Cabin_A32', 'cat1__Cabin_A34', 'cat1__Cabin_A36',\n",
       "       'cat1__Cabin_A5', 'cat1__Cabin_A6', 'cat1__Cabin_A7',\n",
       "       'cat1__Cabin_B101', 'cat1__Cabin_B102', 'cat1__Cabin_B18',\n",
       "       'cat1__Cabin_B19', 'cat1__Cabin_B20', 'cat1__Cabin_B22',\n",
       "       'cat1__Cabin_B28', 'cat1__Cabin_B3', 'cat1__Cabin_B30',\n",
       "       'cat1__Cabin_B35', 'cat1__Cabin_B37', 'cat1__Cabin_B38',\n",
       "       'cat1__Cabin_B39', 'cat1__Cabin_B4', 'cat1__Cabin_B41',\n",
       "       'cat1__Cabin_B42', 'cat1__Cabin_B49', 'cat1__Cabin_B5',\n",
       "       'cat1__Cabin_B50', 'cat1__Cabin_B51 B53 B55',\n",
       "       'cat1__Cabin_B57 B59 B63 B66', 'cat1__Cabin_B58 B60',\n",
       "       'cat1__Cabin_B69', 'cat1__Cabin_B71', 'cat1__Cabin_B73',\n",
       "       'cat1__Cabin_B77', 'cat1__Cabin_B78', 'cat1__Cabin_B79',\n",
       "       'cat1__Cabin_B80', 'cat1__Cabin_B82 B84', 'cat1__Cabin_B86',\n",
       "       'cat1__Cabin_B94', 'cat1__Cabin_B96 B98', 'cat1__Cabin_C101',\n",
       "       'cat1__Cabin_C103', 'cat1__Cabin_C104', 'cat1__Cabin_C106',\n",
       "       'cat1__Cabin_C110', 'cat1__Cabin_C111', 'cat1__Cabin_C118',\n",
       "       'cat1__Cabin_C123', 'cat1__Cabin_C124', 'cat1__Cabin_C125',\n",
       "       'cat1__Cabin_C126', 'cat1__Cabin_C128', 'cat1__Cabin_C148',\n",
       "       'cat1__Cabin_C2', 'cat1__Cabin_C22 C26', 'cat1__Cabin_C23 C25 C27',\n",
       "       'cat1__Cabin_C30', 'cat1__Cabin_C32', 'cat1__Cabin_C45',\n",
       "       'cat1__Cabin_C46', 'cat1__Cabin_C47', 'cat1__Cabin_C49',\n",
       "       'cat1__Cabin_C50', 'cat1__Cabin_C52', 'cat1__Cabin_C54',\n",
       "       'cat1__Cabin_C62 C64', 'cat1__Cabin_C65', 'cat1__Cabin_C68',\n",
       "       'cat1__Cabin_C7', 'cat1__Cabin_C70', 'cat1__Cabin_C78',\n",
       "       'cat1__Cabin_C82', 'cat1__Cabin_C83', 'cat1__Cabin_C85',\n",
       "       'cat1__Cabin_C86', 'cat1__Cabin_C87', 'cat1__Cabin_C90',\n",
       "       'cat1__Cabin_C91', 'cat1__Cabin_C92', 'cat1__Cabin_C93',\n",
       "       'cat1__Cabin_C95', 'cat1__Cabin_C99', 'cat1__Cabin_D',\n",
       "       'cat1__Cabin_D10 D12', 'cat1__Cabin_D11', 'cat1__Cabin_D15',\n",
       "       'cat1__Cabin_D17', 'cat1__Cabin_D19', 'cat1__Cabin_D20',\n",
       "       'cat1__Cabin_D21', 'cat1__Cabin_D26', 'cat1__Cabin_D28',\n",
       "       'cat1__Cabin_D30', 'cat1__Cabin_D33', 'cat1__Cabin_D35',\n",
       "       'cat1__Cabin_D36', 'cat1__Cabin_D37', 'cat1__Cabin_D45',\n",
       "       'cat1__Cabin_D46', 'cat1__Cabin_D47', 'cat1__Cabin_D48',\n",
       "       'cat1__Cabin_D49', 'cat1__Cabin_D50', 'cat1__Cabin_D56',\n",
       "       'cat1__Cabin_D6', 'cat1__Cabin_D7', 'cat1__Cabin_D9',\n",
       "       'cat1__Cabin_E10', 'cat1__Cabin_E101', 'cat1__Cabin_E12',\n",
       "       'cat1__Cabin_E121', 'cat1__Cabin_E17', 'cat1__Cabin_E24',\n",
       "       'cat1__Cabin_E25', 'cat1__Cabin_E31', 'cat1__Cabin_E33',\n",
       "       'cat1__Cabin_E34', 'cat1__Cabin_E36', 'cat1__Cabin_E38',\n",
       "       'cat1__Cabin_E40', 'cat1__Cabin_E44', 'cat1__Cabin_E46',\n",
       "       'cat1__Cabin_E49', 'cat1__Cabin_E50', 'cat1__Cabin_E58',\n",
       "       'cat1__Cabin_E63', 'cat1__Cabin_E67', 'cat1__Cabin_E68',\n",
       "       'cat1__Cabin_E77', 'cat1__Cabin_E8', 'cat1__Cabin_F E69',\n",
       "       'cat1__Cabin_F G63', 'cat1__Cabin_F G73', 'cat1__Cabin_F2',\n",
       "       'cat1__Cabin_F33', 'cat1__Cabin_F38', 'cat1__Cabin_F4',\n",
       "       'cat1__Cabin_G6', 'cat1__Cabin_T', 'cat1__Cabin_unknown',\n",
       "       'cat2__Sex_female', 'cat2__Sex_male', 'cat2__Ticket_110152',\n",
       "       'cat2__Ticket_110413', 'cat2__Ticket_110465',\n",
       "       'cat2__Ticket_110564', 'cat2__Ticket_110813',\n",
       "       'cat2__Ticket_111240', 'cat2__Ticket_111320',\n",
       "       'cat2__Ticket_111361', 'cat2__Ticket_111369',\n",
       "       'cat2__Ticket_111426', 'cat2__Ticket_111427',\n",
       "       'cat2__Ticket_111428', 'cat2__Ticket_112050',\n",
       "       'cat2__Ticket_112052', 'cat2__Ticket_112053',\n",
       "       'cat2__Ticket_112058', 'cat2__Ticket_112059',\n",
       "       'cat2__Ticket_112277', 'cat2__Ticket_112379',\n",
       "       'cat2__Ticket_113028', 'cat2__Ticket_113043',\n",
       "       'cat2__Ticket_113050', 'cat2__Ticket_113051',\n",
       "       'cat2__Ticket_113055', 'cat2__Ticket_113056',\n",
       "       'cat2__Ticket_113059', 'cat2__Ticket_113501',\n",
       "       'cat2__Ticket_113503', 'cat2__Ticket_113505',\n",
       "       'cat2__Ticket_113509', 'cat2__Ticket_113510',\n",
       "       'cat2__Ticket_113514', 'cat2__Ticket_113572',\n",
       "       'cat2__Ticket_113760', 'cat2__Ticket_113767',\n",
       "       'cat2__Ticket_113773', 'cat2__Ticket_113776',\n",
       "       'cat2__Ticket_113781', 'cat2__Ticket_113783',\n",
       "       'cat2__Ticket_113784', 'cat2__Ticket_113786',\n",
       "       'cat2__Ticket_113787', 'cat2__Ticket_113788',\n",
       "       'cat2__Ticket_113789', 'cat2__Ticket_113792',\n",
       "       'cat2__Ticket_113794', 'cat2__Ticket_113796',\n",
       "       'cat2__Ticket_113798', 'cat2__Ticket_113800',\n",
       "       'cat2__Ticket_113803', 'cat2__Ticket_113804',\n",
       "       'cat2__Ticket_113806', 'cat2__Ticket_113807', 'cat2__Ticket_11668',\n",
       "       'cat2__Ticket_11751', 'cat2__Ticket_11752', 'cat2__Ticket_11753',\n",
       "       'cat2__Ticket_11755', 'cat2__Ticket_11765', 'cat2__Ticket_11767',\n",
       "       'cat2__Ticket_11769', 'cat2__Ticket_11771', 'cat2__Ticket_11774',\n",
       "       'cat2__Ticket_11813', 'cat2__Ticket_11967', 'cat2__Ticket_12233',\n",
       "       'cat2__Ticket_12460', 'cat2__Ticket_12749', 'cat2__Ticket_13049',\n",
       "       'cat2__Ticket_13213', 'cat2__Ticket_13214', 'cat2__Ticket_13502',\n",
       "       'cat2__Ticket_13507', 'cat2__Ticket_13509', 'cat2__Ticket_13567',\n",
       "       'cat2__Ticket_13568', 'cat2__Ticket_14311', 'cat2__Ticket_14312',\n",
       "       'cat2__Ticket_14313', 'cat2__Ticket_14973', 'cat2__Ticket_1601',\n",
       "       'cat2__Ticket_16966', 'cat2__Ticket_16988', 'cat2__Ticket_17421',\n",
       "       'cat2__Ticket_17453', 'cat2__Ticket_17463', 'cat2__Ticket_17464',\n",
       "       'cat2__Ticket_17465', 'cat2__Ticket_17466', 'cat2__Ticket_17474',\n",
       "       'cat2__Ticket_17764', 'cat2__Ticket_19877', 'cat2__Ticket_19928',\n",
       "       'cat2__Ticket_19943', 'cat2__Ticket_19947', 'cat2__Ticket_19950',\n",
       "       'cat2__Ticket_19952', 'cat2__Ticket_19972', 'cat2__Ticket_19988',\n",
       "       'cat2__Ticket_19996', 'cat2__Ticket_2003', 'cat2__Ticket_211536',\n",
       "       'cat2__Ticket_21440', 'cat2__Ticket_218629', 'cat2__Ticket_219533',\n",
       "       'cat2__Ticket_220367', 'cat2__Ticket_220845', 'cat2__Ticket_2223',\n",
       "       'cat2__Ticket_223596', 'cat2__Ticket_226593',\n",
       "       'cat2__Ticket_226875', 'cat2__Ticket_228414',\n",
       "       'cat2__Ticket_229236', 'cat2__Ticket_230080',\n",
       "       'cat2__Ticket_230136', 'cat2__Ticket_230433',\n",
       "       'cat2__Ticket_230434', 'cat2__Ticket_231919',\n",
       "       'cat2__Ticket_231945', 'cat2__Ticket_233639',\n",
       "       'cat2__Ticket_233866', 'cat2__Ticket_234360',\n",
       "       'cat2__Ticket_234604', 'cat2__Ticket_234686',\n",
       "       'cat2__Ticket_234818', 'cat2__Ticket_236171',\n",
       "       'cat2__Ticket_236852', 'cat2__Ticket_236853',\n",
       "       'cat2__Ticket_237442', 'cat2__Ticket_237565',\n",
       "       'cat2__Ticket_237668', 'cat2__Ticket_237671',\n",
       "       'cat2__Ticket_237736', 'cat2__Ticket_237789',\n",
       "       'cat2__Ticket_237798', 'cat2__Ticket_239853',\n",
       "       'cat2__Ticket_239854', 'cat2__Ticket_239855',\n",
       "       'cat2__Ticket_239856', 'cat2__Ticket_239865',\n",
       "       'cat2__Ticket_240929', 'cat2__Ticket_24160', 'cat2__Ticket_243847',\n",
       "       'cat2__Ticket_243880', 'cat2__Ticket_244252',\n",
       "       'cat2__Ticket_244270', 'cat2__Ticket_244278',\n",
       "       'cat2__Ticket_244310', 'cat2__Ticket_244358',\n",
       "       'cat2__Ticket_244361', 'cat2__Ticket_244367',\n",
       "       'cat2__Ticket_244373', 'cat2__Ticket_248698',\n",
       "       'cat2__Ticket_248706', 'cat2__Ticket_248723',\n",
       "       'cat2__Ticket_248727', 'cat2__Ticket_248731',\n",
       "       'cat2__Ticket_248733', 'cat2__Ticket_248738',\n",
       "       'cat2__Ticket_248740', 'cat2__Ticket_248747',\n",
       "       'cat2__Ticket_250643', 'cat2__Ticket_250644',\n",
       "       'cat2__Ticket_250646', 'cat2__Ticket_250647',\n",
       "       'cat2__Ticket_250648', 'cat2__Ticket_250649',\n",
       "       'cat2__Ticket_250651', 'cat2__Ticket_250652',\n",
       "       'cat2__Ticket_250653', 'cat2__Ticket_250655', 'cat2__Ticket_2620',\n",
       "       'cat2__Ticket_2623', 'cat2__Ticket_2624', 'cat2__Ticket_2625',\n",
       "       'cat2__Ticket_2626', 'cat2__Ticket_2627', 'cat2__Ticket_2628',\n",
       "       'cat2__Ticket_2629', 'cat2__Ticket_2631', 'cat2__Ticket_26360',\n",
       "       'cat2__Ticket_2641', 'cat2__Ticket_2647', 'cat2__Ticket_2648',\n",
       "       'cat2__Ticket_2649', 'cat2__Ticket_2650', 'cat2__Ticket_2651',\n",
       "       'cat2__Ticket_2653', 'cat2__Ticket_2659', 'cat2__Ticket_2661',\n",
       "       'cat2__Ticket_2662', 'cat2__Ticket_2663', 'cat2__Ticket_2664',\n",
       "       'cat2__Ticket_2665', 'cat2__Ticket_2666', 'cat2__Ticket_2667',\n",
       "       'cat2__Ticket_2668', 'cat2__Ticket_2669', 'cat2__Ticket_26707',\n",
       "       'cat2__Ticket_2671', 'cat2__Ticket_2672', 'cat2__Ticket_2674',\n",
       "       'cat2__Ticket_2677', 'cat2__Ticket_2678', 'cat2__Ticket_2680',\n",
       "       'cat2__Ticket_2683', 'cat2__Ticket_2685', 'cat2__Ticket_2686',\n",
       "       'cat2__Ticket_2687', 'cat2__Ticket_2689', 'cat2__Ticket_2690',\n",
       "       'cat2__Ticket_2691', 'cat2__Ticket_2693', 'cat2__Ticket_2694',\n",
       "       'cat2__Ticket_2695', 'cat2__Ticket_2697', 'cat2__Ticket_2699',\n",
       "       'cat2__Ticket_2700', 'cat2__Ticket_27042', 'cat2__Ticket_27267',\n",
       "       'cat2__Ticket_27849', 'cat2__Ticket_28134', 'cat2__Ticket_28206',\n",
       "       'cat2__Ticket_28213', 'cat2__Ticket_28220', 'cat2__Ticket_28228',\n",
       "       'cat2__Ticket_28403', 'cat2__Ticket_28424', 'cat2__Ticket_28425',\n",
       "       'cat2__Ticket_28551', 'cat2__Ticket_28664', 'cat2__Ticket_28665',\n",
       "       'cat2__Ticket_29011', 'cat2__Ticket_2908', 'cat2__Ticket_29103',\n",
       "       'cat2__Ticket_29104', 'cat2__Ticket_29105', 'cat2__Ticket_29106',\n",
       "       'cat2__Ticket_29108', 'cat2__Ticket_2926', 'cat2__Ticket_29750',\n",
       "       'cat2__Ticket_29751', 'cat2__Ticket_3101264',\n",
       "       'cat2__Ticket_3101265', 'cat2__Ticket_3101267',\n",
       "       'cat2__Ticket_3101276', 'cat2__Ticket_3101277',\n",
       "       'cat2__Ticket_3101278', 'cat2__Ticket_3101281',\n",
       "       'cat2__Ticket_3101295', 'cat2__Ticket_3101296',\n",
       "       'cat2__Ticket_3101298', 'cat2__Ticket_31027', 'cat2__Ticket_31028',\n",
       "       'cat2__Ticket_312991', 'cat2__Ticket_312992',\n",
       "       'cat2__Ticket_312993', 'cat2__Ticket_31418', 'cat2__Ticket_315037',\n",
       "       'cat2__Ticket_315082', 'cat2__Ticket_315084',\n",
       "       'cat2__Ticket_315086', 'cat2__Ticket_315088',\n",
       "       'cat2__Ticket_315089', 'cat2__Ticket_315090',\n",
       "       'cat2__Ticket_315093', 'cat2__Ticket_315094',\n",
       "       'cat2__Ticket_315096', 'cat2__Ticket_315097',\n",
       "       'cat2__Ticket_315098', 'cat2__Ticket_315151',\n",
       "       'cat2__Ticket_315153', 'cat2__Ticket_323592',\n",
       "       'cat2__Ticket_323951', 'cat2__Ticket_324669',\n",
       "       'cat2__Ticket_330877', 'cat2__Ticket_330909',\n",
       "       'cat2__Ticket_330919', 'cat2__Ticket_330923',\n",
       "       'cat2__Ticket_330931', 'cat2__Ticket_330932',\n",
       "       'cat2__Ticket_330935', 'cat2__Ticket_330958',\n",
       "       'cat2__Ticket_330959', 'cat2__Ticket_330979',\n",
       "       'cat2__Ticket_330980', 'cat2__Ticket_334912',\n",
       "       'cat2__Ticket_335097', 'cat2__Ticket_335677', 'cat2__Ticket_33638',\n",
       "       'cat2__Ticket_336439', 'cat2__Ticket_3411', 'cat2__Ticket_341826',\n",
       "       'cat2__Ticket_34218', 'cat2__Ticket_342826', 'cat2__Ticket_343095',\n",
       "       'cat2__Ticket_343120', 'cat2__Ticket_343275',\n",
       "       'cat2__Ticket_343276', 'cat2__Ticket_345364',\n",
       "       'cat2__Ticket_345572', 'cat2__Ticket_345763',\n",
       "       'cat2__Ticket_345764', 'cat2__Ticket_345765',\n",
       "       'cat2__Ticket_345767', 'cat2__Ticket_345769',\n",
       "       'cat2__Ticket_345770', 'cat2__Ticket_345773',\n",
       "       'cat2__Ticket_345774', 'cat2__Ticket_345777',\n",
       "       'cat2__Ticket_345778', 'cat2__Ticket_345779',\n",
       "       'cat2__Ticket_345780', 'cat2__Ticket_345781',\n",
       "       'cat2__Ticket_345783', 'cat2__Ticket_3460', 'cat2__Ticket_347054',\n",
       "       'cat2__Ticket_347060', 'cat2__Ticket_347061',\n",
       "       'cat2__Ticket_347062', 'cat2__Ticket_347063',\n",
       "       'cat2__Ticket_347064', 'cat2__Ticket_347067',\n",
       "       'cat2__Ticket_347068', 'cat2__Ticket_347069',\n",
       "       'cat2__Ticket_347071', 'cat2__Ticket_347073',\n",
       "       'cat2__Ticket_347074', 'cat2__Ticket_347076',\n",
       "       'cat2__Ticket_347077', 'cat2__Ticket_347078',\n",
       "       'cat2__Ticket_347080', 'cat2__Ticket_347081',\n",
       "       'cat2__Ticket_347082', 'cat2__Ticket_347083',\n",
       "       'cat2__Ticket_347085', 'cat2__Ticket_347087',\n",
       "       'cat2__Ticket_347088', 'cat2__Ticket_347089', 'cat2__Ticket_3474',\n",
       "       'cat2__Ticket_347464', 'cat2__Ticket_347466',\n",
       "       'cat2__Ticket_347468', 'cat2__Ticket_347470',\n",
       "       'cat2__Ticket_347742', 'cat2__Ticket_347743',\n",
       "       'cat2__Ticket_348121', 'cat2__Ticket_348123',\n",
       "       'cat2__Ticket_348124', 'cat2__Ticket_349201',\n",
       "       'cat2__Ticket_349203', 'cat2__Ticket_349204',\n",
       "       'cat2__Ticket_349205', 'cat2__Ticket_349206',\n",
       "       'cat2__Ticket_349207', 'cat2__Ticket_349208',\n",
       "       'cat2__Ticket_349209', 'cat2__Ticket_349210',\n",
       "       'cat2__Ticket_349212', 'cat2__Ticket_349213',\n",
       "       'cat2__Ticket_349214', 'cat2__Ticket_349215',\n",
       "       'cat2__Ticket_349216', 'cat2__Ticket_349217',\n",
       "       'cat2__Ticket_349218', 'cat2__Ticket_349219',\n",
       "       'cat2__Ticket_349221', 'cat2__Ticket_349222',\n",
       "       'cat2__Ticket_349223', 'cat2__Ticket_349224',\n",
       "       'cat2__Ticket_349225', 'cat2__Ticket_349227',\n",
       "       'cat2__Ticket_349228', 'cat2__Ticket_349231',\n",
       "       'cat2__Ticket_349233', 'cat2__Ticket_349234',\n",
       "       'cat2__Ticket_349236', 'cat2__Ticket_349237',\n",
       "       'cat2__Ticket_349239', 'cat2__Ticket_349240',\n",
       "       'cat2__Ticket_349241', 'cat2__Ticket_349242',\n",
       "       'cat2__Ticket_349243', 'cat2__Ticket_349244',\n",
       "       'cat2__Ticket_349245', 'cat2__Ticket_349246',\n",
       "       'cat2__Ticket_349247', 'cat2__Ticket_349248',\n",
       "       'cat2__Ticket_349249', 'cat2__Ticket_349251',\n",
       "       'cat2__Ticket_349252', 'cat2__Ticket_349253',\n",
       "       'cat2__Ticket_349254', 'cat2__Ticket_349256',\n",
       "       'cat2__Ticket_349257', 'cat2__Ticket_349909',\n",
       "       'cat2__Ticket_349910', 'cat2__Ticket_349912',\n",
       "       'cat2__Ticket_350025', 'cat2__Ticket_350026',\n",
       "       'cat2__Ticket_350029', 'cat2__Ticket_350034',\n",
       "       'cat2__Ticket_350035', 'cat2__Ticket_350036',\n",
       "       'cat2__Ticket_350042', 'cat2__Ticket_350043',\n",
       "       'cat2__Ticket_350046', 'cat2__Ticket_350047',\n",
       "       'cat2__Ticket_350048', 'cat2__Ticket_350050',\n",
       "       'cat2__Ticket_350052', 'cat2__Ticket_350060',\n",
       "       'cat2__Ticket_350404', 'cat2__Ticket_350406',\n",
       "       'cat2__Ticket_350407', 'cat2__Ticket_350417', 'cat2__Ticket_35273',\n",
       "       'cat2__Ticket_35281', 'cat2__Ticket_35851', 'cat2__Ticket_35852',\n",
       "       'cat2__Ticket_358585', 'cat2__Ticket_36209', 'cat2__Ticket_362316',\n",
       "       'cat2__Ticket_363291', 'cat2__Ticket_363294',\n",
       "       'cat2__Ticket_363592', 'cat2__Ticket_364498',\n",
       "       'cat2__Ticket_364499', 'cat2__Ticket_364500',\n",
       "       'cat2__Ticket_364506', 'cat2__Ticket_364511',\n",
       "       'cat2__Ticket_364512', 'cat2__Ticket_364516',\n",
       "       'cat2__Ticket_364846', 'cat2__Ticket_364848',\n",
       "       'cat2__Ticket_364849', 'cat2__Ticket_364850',\n",
       "       'cat2__Ticket_364851', 'cat2__Ticket_365222',\n",
       "       'cat2__Ticket_365226', 'cat2__Ticket_36568', 'cat2__Ticket_367226',\n",
       "       'cat2__Ticket_367228', 'cat2__Ticket_367229',\n",
       "       'cat2__Ticket_367230', 'cat2__Ticket_367231',\n",
       "       'cat2__Ticket_367232', 'cat2__Ticket_367655',\n",
       "       'cat2__Ticket_368323', 'cat2__Ticket_36864', 'cat2__Ticket_36865',\n",
       "       'cat2__Ticket_36866', 'cat2__Ticket_368703', 'cat2__Ticket_36928',\n",
       "       'cat2__Ticket_36947', 'cat2__Ticket_36963', 'cat2__Ticket_36967',\n",
       "       'cat2__Ticket_36973', 'cat2__Ticket_370129', 'cat2__Ticket_370365',\n",
       "       'cat2__Ticket_370369', 'cat2__Ticket_370370',\n",
       "       'cat2__Ticket_370371', 'cat2__Ticket_370372',\n",
       "       'cat2__Ticket_370373', 'cat2__Ticket_370375',\n",
       "       'cat2__Ticket_370376', 'cat2__Ticket_370377',\n",
       "       'cat2__Ticket_371060', 'cat2__Ticket_371110',\n",
       "       'cat2__Ticket_371362', 'cat2__Ticket_372622',\n",
       "       'cat2__Ticket_373450', 'cat2__Ticket_374746',\n",
       "       'cat2__Ticket_374887', 'cat2__Ticket_374910',\n",
       "       'cat2__Ticket_376564', 'cat2__Ticket_376566',\n",
       "       'cat2__Ticket_382649', 'cat2__Ticket_382651',\n",
       "       'cat2__Ticket_382652', 'cat2__Ticket_383121',\n",
       "       'cat2__Ticket_384461', 'cat2__Ticket_386525',\n",
       "       'cat2__Ticket_392091', 'cat2__Ticket_392092',\n",
       "       'cat2__Ticket_392096', 'cat2__Ticket_394140', 'cat2__Ticket_4133',\n",
       "       'cat2__Ticket_4134', 'cat2__Ticket_4135', 'cat2__Ticket_4136',\n",
       "       'cat2__Ticket_4137', 'cat2__Ticket_4138', 'cat2__Ticket_4579',\n",
       "       'cat2__Ticket_54636', 'cat2__Ticket_5727', 'cat2__Ticket_65303',\n",
       "       'cat2__Ticket_65304', 'cat2__Ticket_65306', 'cat2__Ticket_6563',\n",
       "       'cat2__Ticket_693', 'cat2__Ticket_695', 'cat2__Ticket_7267',\n",
       "       'cat2__Ticket_7534', 'cat2__Ticket_7540', 'cat2__Ticket_7545',\n",
       "       'cat2__Ticket_7546', 'cat2__Ticket_7552', 'cat2__Ticket_7553',\n",
       "       'cat2__Ticket_7598', 'cat2__Ticket_8471', 'cat2__Ticket_8475',\n",
       "       'cat2__Ticket_9234', 'cat2__Ticket_A./5. 2152',\n",
       "       'cat2__Ticket_A./5. 3235', 'cat2__Ticket_A.5. 11206',\n",
       "       'cat2__Ticket_A.5. 18509', 'cat2__Ticket_A/4 45380',\n",
       "       'cat2__Ticket_A/4 48871', 'cat2__Ticket_A/4. 20589',\n",
       "       'cat2__Ticket_A/4. 34244', 'cat2__Ticket_A/4. 39886',\n",
       "       'cat2__Ticket_A/5 21171', 'cat2__Ticket_A/5 21172',\n",
       "       'cat2__Ticket_A/5 21173', 'cat2__Ticket_A/5 21174',\n",
       "       'cat2__Ticket_A/5 2466', 'cat2__Ticket_A/5 2817',\n",
       "       'cat2__Ticket_A/5 3536', 'cat2__Ticket_A/5 3540',\n",
       "       'cat2__Ticket_A/5 3594', 'cat2__Ticket_A/5 3902',\n",
       "       'cat2__Ticket_A/5. 10482', 'cat2__Ticket_A/5. 13032',\n",
       "       'cat2__Ticket_A/5. 2151', 'cat2__Ticket_A/5. 3336',\n",
       "       'cat2__Ticket_A/5. 3337', 'cat2__Ticket_A/5. 851',\n",
       "       'cat2__Ticket_A/S 2816', 'cat2__Ticket_A4. 54510',\n",
       "       'cat2__Ticket_C 17369', 'cat2__Ticket_C 4001',\n",
       "       'cat2__Ticket_C 7075', 'cat2__Ticket_C 7076',\n",
       "       'cat2__Ticket_C 7077', 'cat2__Ticket_C.A. 17248',\n",
       "       'cat2__Ticket_C.A. 18723', 'cat2__Ticket_C.A. 2315',\n",
       "       'cat2__Ticket_C.A. 24579', 'cat2__Ticket_C.A. 24580',\n",
       "       'cat2__Ticket_C.A. 2673', 'cat2__Ticket_C.A. 29178',\n",
       "       'cat2__Ticket_C.A. 29395', 'cat2__Ticket_C.A. 29566',\n",
       "       'cat2__Ticket_C.A. 31026', 'cat2__Ticket_C.A. 31921',\n",
       "       'cat2__Ticket_C.A. 33111', 'cat2__Ticket_C.A. 33112',\n",
       "       'cat2__Ticket_C.A. 33595', 'cat2__Ticket_C.A. 34260',\n",
       "       'cat2__Ticket_C.A. 34651', 'cat2__Ticket_C.A. 37671',\n",
       "       'cat2__Ticket_C.A. 5547', 'cat2__Ticket_C.A. 6212',\n",
       "       'cat2__Ticket_C.A./SOTON 34068', 'cat2__Ticket_CA 2144',\n",
       "       'cat2__Ticket_CA. 2314', 'cat2__Ticket_CA. 2343',\n",
       "       'cat2__Ticket_F.C. 12750', 'cat2__Ticket_F.C.C. 13528',\n",
       "       'cat2__Ticket_F.C.C. 13529', 'cat2__Ticket_F.C.C. 13531',\n",
       "       'cat2__Ticket_Fa 265302', 'cat2__Ticket_LINE',\n",
       "       'cat2__Ticket_P/PP 3381', 'cat2__Ticket_PC 17318',\n",
       "       'cat2__Ticket_PC 17473', 'cat2__Ticket_PC 17474',\n",
       "       'cat2__Ticket_PC 17475', 'cat2__Ticket_PC 17476',\n",
       "       'cat2__Ticket_PC 17477', 'cat2__Ticket_PC 17482',\n",
       "       'cat2__Ticket_PC 17483', 'cat2__Ticket_PC 17485',\n",
       "       'cat2__Ticket_PC 17558', 'cat2__Ticket_PC 17569',\n",
       "       'cat2__Ticket_PC 17572', 'cat2__Ticket_PC 17582',\n",
       "       'cat2__Ticket_PC 17585', 'cat2__Ticket_PC 17590',\n",
       "       'cat2__Ticket_PC 17592', 'cat2__Ticket_PC 17593',\n",
       "       'cat2__Ticket_PC 17595', 'cat2__Ticket_PC 17596',\n",
       "       'cat2__Ticket_PC 17597', 'cat2__Ticket_PC 17599',\n",
       "       'cat2__Ticket_PC 17600', 'cat2__Ticket_PC 17601',\n",
       "       'cat2__Ticket_PC 17603', 'cat2__Ticket_PC 17604',\n",
       "       'cat2__Ticket_PC 17605', 'cat2__Ticket_PC 17608',\n",
       "       'cat2__Ticket_PC 17609', 'cat2__Ticket_PC 17610',\n",
       "       'cat2__Ticket_PC 17611', 'cat2__Ticket_PC 17612',\n",
       "       'cat2__Ticket_PC 17754', 'cat2__Ticket_PC 17755',\n",
       "       'cat2__Ticket_PC 17756', 'cat2__Ticket_PC 17757',\n",
       "       'cat2__Ticket_PC 17758', 'cat2__Ticket_PC 17759',\n",
       "       'cat2__Ticket_PC 17760', 'cat2__Ticket_PC 17761',\n",
       "       'cat2__Ticket_PP 4348', 'cat2__Ticket_PP 9549',\n",
       "       'cat2__Ticket_S.C./A.4. 23567', 'cat2__Ticket_S.C./PARIS 2079',\n",
       "       'cat2__Ticket_S.O./P.P. 3', 'cat2__Ticket_S.O./P.P. 751',\n",
       "       'cat2__Ticket_S.O.C. 14879', 'cat2__Ticket_S.O.P. 1166',\n",
       "       'cat2__Ticket_S.P. 3464', 'cat2__Ticket_S.W./PP 752',\n",
       "       'cat2__Ticket_SC 1748', 'cat2__Ticket_SC/AH 29037',\n",
       "       'cat2__Ticket_SC/AH 3085', 'cat2__Ticket_SC/AH Basle 541',\n",
       "       'cat2__Ticket_SC/PARIS 2131', 'cat2__Ticket_SC/PARIS 2133',\n",
       "       'cat2__Ticket_SC/PARIS 2146', 'cat2__Ticket_SC/PARIS 2149',\n",
       "       'cat2__Ticket_SC/PARIS 2167', 'cat2__Ticket_SC/Paris 2123',\n",
       "       'cat2__Ticket_SC/Paris 2163', 'cat2__Ticket_SCO/W 1585',\n",
       "       'cat2__Ticket_SO/C 14885', 'cat2__Ticket_SOTON/O.Q. 3101305',\n",
       "       'cat2__Ticket_SOTON/O.Q. 3101306',\n",
       "       'cat2__Ticket_SOTON/O.Q. 3101307',\n",
       "       'cat2__Ticket_SOTON/O.Q. 3101310',\n",
       "       'cat2__Ticket_SOTON/O.Q. 3101311',\n",
       "       'cat2__Ticket_SOTON/O.Q. 3101312',\n",
       "       'cat2__Ticket_SOTON/O.Q. 392078', 'cat2__Ticket_SOTON/O.Q. 392087',\n",
       "       'cat2__Ticket_SOTON/O2 3101272', 'cat2__Ticket_SOTON/O2 3101287',\n",
       "       'cat2__Ticket_SOTON/OQ 3101316', 'cat2__Ticket_SOTON/OQ 3101317',\n",
       "       'cat2__Ticket_SOTON/OQ 392076', 'cat2__Ticket_SOTON/OQ 392082',\n",
       "       'cat2__Ticket_SOTON/OQ 392086', 'cat2__Ticket_SOTON/OQ 392089',\n",
       "       'cat2__Ticket_SOTON/OQ 392090', 'cat2__Ticket_STON/O 2. 3101269',\n",
       "       'cat2__Ticket_STON/O 2. 3101273', 'cat2__Ticket_STON/O 2. 3101274',\n",
       "       'cat2__Ticket_STON/O 2. 3101275', 'cat2__Ticket_STON/O 2. 3101280',\n",
       "       'cat2__Ticket_STON/O 2. 3101285', 'cat2__Ticket_STON/O 2. 3101286',\n",
       "       'cat2__Ticket_STON/O 2. 3101288', 'cat2__Ticket_STON/O 2. 3101289',\n",
       "       'cat2__Ticket_STON/O 2. 3101292', 'cat2__Ticket_STON/O 2. 3101293',\n",
       "       'cat2__Ticket_STON/O 2. 3101294', 'cat2__Ticket_STON/O2. 3101271',\n",
       "       'cat2__Ticket_STON/O2. 3101279', 'cat2__Ticket_STON/O2. 3101282',\n",
       "       'cat2__Ticket_STON/O2. 3101283', 'cat2__Ticket_STON/O2. 3101290',\n",
       "       'cat2__Ticket_SW/PP 751', 'cat2__Ticket_W./C. 14258',\n",
       "       'cat2__Ticket_W./C. 14263', 'cat2__Ticket_W./C. 6607',\n",
       "       'cat2__Ticket_W./C. 6608', 'cat2__Ticket_W./C. 6609',\n",
       "       'cat2__Ticket_W.E.P. 5734', 'cat2__Ticket_W/C 14208',\n",
       "       'cat2__Ticket_WE/P 5735', 'cat2__Cabin_A10', 'cat2__Cabin_A14',\n",
       "       'cat2__Cabin_A16', 'cat2__Cabin_A19', 'cat2__Cabin_A20',\n",
       "       'cat2__Cabin_A23', 'cat2__Cabin_A24', 'cat2__Cabin_A26',\n",
       "       'cat2__Cabin_A31', 'cat2__Cabin_A32', 'cat2__Cabin_A34',\n",
       "       'cat2__Cabin_A36', 'cat2__Cabin_A5', 'cat2__Cabin_A6',\n",
       "       'cat2__Cabin_A7', 'cat2__Cabin_B101', 'cat2__Cabin_B102',\n",
       "       'cat2__Cabin_B18', 'cat2__Cabin_B19', 'cat2__Cabin_B20',\n",
       "       'cat2__Cabin_B22', 'cat2__Cabin_B28', 'cat2__Cabin_B3',\n",
       "       'cat2__Cabin_B30', 'cat2__Cabin_B35', 'cat2__Cabin_B37',\n",
       "       'cat2__Cabin_B38', 'cat2__Cabin_B39', 'cat2__Cabin_B4',\n",
       "       'cat2__Cabin_B41', 'cat2__Cabin_B42', 'cat2__Cabin_B49',\n",
       "       'cat2__Cabin_B5', 'cat2__Cabin_B50', 'cat2__Cabin_B51 B53 B55',\n",
       "       'cat2__Cabin_B57 B59 B63 B66', 'cat2__Cabin_B58 B60',\n",
       "       'cat2__Cabin_B69', 'cat2__Cabin_B71', 'cat2__Cabin_B73',\n",
       "       'cat2__Cabin_B77', 'cat2__Cabin_B78', 'cat2__Cabin_B79',\n",
       "       'cat2__Cabin_B80', 'cat2__Cabin_B82 B84', 'cat2__Cabin_B86',\n",
       "       'cat2__Cabin_B94', 'cat2__Cabin_B96 B98', 'cat2__Cabin_C101',\n",
       "       'cat2__Cabin_C103', 'cat2__Cabin_C104', 'cat2__Cabin_C106',\n",
       "       'cat2__Cabin_C110', 'cat2__Cabin_C111', 'cat2__Cabin_C118',\n",
       "       'cat2__Cabin_C123', 'cat2__Cabin_C124', 'cat2__Cabin_C125',\n",
       "       'cat2__Cabin_C126', 'cat2__Cabin_C128', 'cat2__Cabin_C148',\n",
       "       'cat2__Cabin_C2', 'cat2__Cabin_C22 C26', 'cat2__Cabin_C23 C25 C27',\n",
       "       'cat2__Cabin_C30', 'cat2__Cabin_C32', 'cat2__Cabin_C45',\n",
       "       'cat2__Cabin_C46', 'cat2__Cabin_C47', 'cat2__Cabin_C49',\n",
       "       'cat2__Cabin_C50', 'cat2__Cabin_C52', 'cat2__Cabin_C54',\n",
       "       'cat2__Cabin_C62 C64', 'cat2__Cabin_C65', 'cat2__Cabin_C68',\n",
       "       'cat2__Cabin_C7', 'cat2__Cabin_C70', 'cat2__Cabin_C78',\n",
       "       'cat2__Cabin_C82', 'cat2__Cabin_C83', 'cat2__Cabin_C85',\n",
       "       'cat2__Cabin_C86', 'cat2__Cabin_C87', 'cat2__Cabin_C90',\n",
       "       'cat2__Cabin_C91', 'cat2__Cabin_C92', 'cat2__Cabin_C93',\n",
       "       'cat2__Cabin_C95', 'cat2__Cabin_C99', 'cat2__Cabin_D',\n",
       "       'cat2__Cabin_D10 D12', 'cat2__Cabin_D11', 'cat2__Cabin_D15',\n",
       "       'cat2__Cabin_D17', 'cat2__Cabin_D19', 'cat2__Cabin_D20',\n",
       "       'cat2__Cabin_D21', 'cat2__Cabin_D26', 'cat2__Cabin_D28',\n",
       "       'cat2__Cabin_D30', 'cat2__Cabin_D33', 'cat2__Cabin_D35',\n",
       "       'cat2__Cabin_D36', 'cat2__Cabin_D37', 'cat2__Cabin_D45',\n",
       "       'cat2__Cabin_D46', 'cat2__Cabin_D47', 'cat2__Cabin_D48',\n",
       "       'cat2__Cabin_D49', 'cat2__Cabin_D50', 'cat2__Cabin_D56',\n",
       "       'cat2__Cabin_D6', 'cat2__Cabin_D7', 'cat2__Cabin_D9',\n",
       "       'cat2__Cabin_E10', 'cat2__Cabin_E101', 'cat2__Cabin_E12',\n",
       "       'cat2__Cabin_E121', 'cat2__Cabin_E17', 'cat2__Cabin_E24',\n",
       "       'cat2__Cabin_E25', 'cat2__Cabin_E31', 'cat2__Cabin_E33',\n",
       "       'cat2__Cabin_E34', 'cat2__Cabin_E36', 'cat2__Cabin_E38',\n",
       "       'cat2__Cabin_E40', 'cat2__Cabin_E44', 'cat2__Cabin_E46',\n",
       "       'cat2__Cabin_E49', 'cat2__Cabin_E50', 'cat2__Cabin_E58',\n",
       "       'cat2__Cabin_E63', 'cat2__Cabin_E67', 'cat2__Cabin_E68',\n",
       "       'cat2__Cabin_E77', 'cat2__Cabin_E8', 'cat2__Cabin_F E69',\n",
       "       'cat2__Cabin_F G63', 'cat2__Cabin_F G73', 'cat2__Cabin_F2',\n",
       "       'cat2__Cabin_F33', 'cat2__Cabin_F38', 'cat2__Cabin_F4',\n",
       "       'cat2__Cabin_G6', 'cat2__Cabin_T', 'cat2__Embarked_C',\n",
       "       'cat2__Embarked_Q', 'cat2__Embarked_S'], dtype=object)"
      ]
     },
     "execution_count": 15,
     "metadata": {},
     "output_type": "execute_result"
    }
   ],
   "source": [
    "cols = pre.get_feature_names_out()\n",
    "cols"
   ]
  },
  {
   "cell_type": "code",
   "execution_count": 16,
   "metadata": {},
   "outputs": [
    {
     "data": {
      "text/html": [
       "<div>\n",
       "<style scoped>\n",
       "    .dataframe tbody tr th:only-of-type {\n",
       "        vertical-align: middle;\n",
       "    }\n",
       "\n",
       "    .dataframe tbody tr th {\n",
       "        vertical-align: top;\n",
       "    }\n",
       "\n",
       "    .dataframe thead th {\n",
       "        text-align: right;\n",
       "    }\n",
       "</style>\n",
       "<table border=\"1\" class=\"dataframe\">\n",
       "  <thead>\n",
       "    <tr style=\"text-align: right;\">\n",
       "      <th></th>\n",
       "      <th>num__Pclass</th>\n",
       "      <th>num__Age</th>\n",
       "      <th>num__SibSp</th>\n",
       "      <th>num__Parch</th>\n",
       "      <th>num__Fare</th>\n",
       "      <th>cat1__Cabin_A10</th>\n",
       "      <th>cat1__Cabin_A14</th>\n",
       "      <th>cat1__Cabin_A16</th>\n",
       "      <th>cat1__Cabin_A19</th>\n",
       "      <th>cat1__Cabin_A20</th>\n",
       "      <th>...</th>\n",
       "      <th>cat2__Cabin_F G73</th>\n",
       "      <th>cat2__Cabin_F2</th>\n",
       "      <th>cat2__Cabin_F33</th>\n",
       "      <th>cat2__Cabin_F38</th>\n",
       "      <th>cat2__Cabin_F4</th>\n",
       "      <th>cat2__Cabin_G6</th>\n",
       "      <th>cat2__Cabin_T</th>\n",
       "      <th>cat2__Embarked_C</th>\n",
       "      <th>cat2__Embarked_Q</th>\n",
       "      <th>cat2__Embarked_S</th>\n",
       "    </tr>\n",
       "  </thead>\n",
       "  <tbody>\n",
       "    <tr>\n",
       "      <th>0</th>\n",
       "      <td>0.827377</td>\n",
       "      <td>-0.565736</td>\n",
       "      <td>0.432793</td>\n",
       "      <td>-0.473674</td>\n",
       "      <td>-0.502445</td>\n",
       "      <td>0.0</td>\n",
       "      <td>0.0</td>\n",
       "      <td>0.0</td>\n",
       "      <td>0.0</td>\n",
       "      <td>0.0</td>\n",
       "      <td>...</td>\n",
       "      <td>0.0</td>\n",
       "      <td>0.0</td>\n",
       "      <td>0.0</td>\n",
       "      <td>0.0</td>\n",
       "      <td>0.0</td>\n",
       "      <td>0.0</td>\n",
       "      <td>0.0</td>\n",
       "      <td>0.0</td>\n",
       "      <td>0.0</td>\n",
       "      <td>1.0</td>\n",
       "    </tr>\n",
       "    <tr>\n",
       "      <th>1</th>\n",
       "      <td>-1.566107</td>\n",
       "      <td>0.663861</td>\n",
       "      <td>0.432793</td>\n",
       "      <td>-0.473674</td>\n",
       "      <td>0.786845</td>\n",
       "      <td>0.0</td>\n",
       "      <td>0.0</td>\n",
       "      <td>0.0</td>\n",
       "      <td>0.0</td>\n",
       "      <td>0.0</td>\n",
       "      <td>...</td>\n",
       "      <td>0.0</td>\n",
       "      <td>0.0</td>\n",
       "      <td>0.0</td>\n",
       "      <td>0.0</td>\n",
       "      <td>0.0</td>\n",
       "      <td>0.0</td>\n",
       "      <td>0.0</td>\n",
       "      <td>1.0</td>\n",
       "      <td>0.0</td>\n",
       "      <td>0.0</td>\n",
       "    </tr>\n",
       "    <tr>\n",
       "      <th>2</th>\n",
       "      <td>0.827377</td>\n",
       "      <td>-0.258337</td>\n",
       "      <td>-0.474545</td>\n",
       "      <td>-0.473674</td>\n",
       "      <td>-0.488854</td>\n",
       "      <td>0.0</td>\n",
       "      <td>0.0</td>\n",
       "      <td>0.0</td>\n",
       "      <td>0.0</td>\n",
       "      <td>0.0</td>\n",
       "      <td>...</td>\n",
       "      <td>0.0</td>\n",
       "      <td>0.0</td>\n",
       "      <td>0.0</td>\n",
       "      <td>0.0</td>\n",
       "      <td>0.0</td>\n",
       "      <td>0.0</td>\n",
       "      <td>0.0</td>\n",
       "      <td>0.0</td>\n",
       "      <td>0.0</td>\n",
       "      <td>1.0</td>\n",
       "    </tr>\n",
       "    <tr>\n",
       "      <th>3</th>\n",
       "      <td>-1.566107</td>\n",
       "      <td>0.433312</td>\n",
       "      <td>0.432793</td>\n",
       "      <td>-0.473674</td>\n",
       "      <td>0.420730</td>\n",
       "      <td>0.0</td>\n",
       "      <td>0.0</td>\n",
       "      <td>0.0</td>\n",
       "      <td>0.0</td>\n",
       "      <td>0.0</td>\n",
       "      <td>...</td>\n",
       "      <td>0.0</td>\n",
       "      <td>0.0</td>\n",
       "      <td>0.0</td>\n",
       "      <td>0.0</td>\n",
       "      <td>0.0</td>\n",
       "      <td>0.0</td>\n",
       "      <td>0.0</td>\n",
       "      <td>0.0</td>\n",
       "      <td>0.0</td>\n",
       "      <td>1.0</td>\n",
       "    </tr>\n",
       "    <tr>\n",
       "      <th>4</th>\n",
       "      <td>0.827377</td>\n",
       "      <td>0.433312</td>\n",
       "      <td>-0.474545</td>\n",
       "      <td>-0.473674</td>\n",
       "      <td>-0.486337</td>\n",
       "      <td>0.0</td>\n",
       "      <td>0.0</td>\n",
       "      <td>0.0</td>\n",
       "      <td>0.0</td>\n",
       "      <td>0.0</td>\n",
       "      <td>...</td>\n",
       "      <td>0.0</td>\n",
       "      <td>0.0</td>\n",
       "      <td>0.0</td>\n",
       "      <td>0.0</td>\n",
       "      <td>0.0</td>\n",
       "      <td>0.0</td>\n",
       "      <td>0.0</td>\n",
       "      <td>0.0</td>\n",
       "      <td>0.0</td>\n",
       "      <td>1.0</td>\n",
       "    </tr>\n",
       "  </tbody>\n",
       "</table>\n",
       "<p>5 rows × 986 columns</p>\n",
       "</div>"
      ],
      "text/plain": [
       "   num__Pclass  num__Age  num__SibSp  num__Parch  num__Fare  cat1__Cabin_A10  \\\n",
       "0     0.827377 -0.565736    0.432793   -0.473674  -0.502445              0.0   \n",
       "1    -1.566107  0.663861    0.432793   -0.473674   0.786845              0.0   \n",
       "2     0.827377 -0.258337   -0.474545   -0.473674  -0.488854              0.0   \n",
       "3    -1.566107  0.433312    0.432793   -0.473674   0.420730              0.0   \n",
       "4     0.827377  0.433312   -0.474545   -0.473674  -0.486337              0.0   \n",
       "\n",
       "   cat1__Cabin_A14  cat1__Cabin_A16  cat1__Cabin_A19  cat1__Cabin_A20  ...  \\\n",
       "0              0.0              0.0              0.0              0.0  ...   \n",
       "1              0.0              0.0              0.0              0.0  ...   \n",
       "2              0.0              0.0              0.0              0.0  ...   \n",
       "3              0.0              0.0              0.0              0.0  ...   \n",
       "4              0.0              0.0              0.0              0.0  ...   \n",
       "\n",
       "   cat2__Cabin_F G73  cat2__Cabin_F2  cat2__Cabin_F33  cat2__Cabin_F38  \\\n",
       "0                0.0             0.0              0.0              0.0   \n",
       "1                0.0             0.0              0.0              0.0   \n",
       "2                0.0             0.0              0.0              0.0   \n",
       "3                0.0             0.0              0.0              0.0   \n",
       "4                0.0             0.0              0.0              0.0   \n",
       "\n",
       "   cat2__Cabin_F4  cat2__Cabin_G6  cat2__Cabin_T  cat2__Embarked_C  \\\n",
       "0             0.0             0.0            0.0               0.0   \n",
       "1             0.0             0.0            0.0               1.0   \n",
       "2             0.0             0.0            0.0               0.0   \n",
       "3             0.0             0.0            0.0               0.0   \n",
       "4             0.0             0.0            0.0               0.0   \n",
       "\n",
       "   cat2__Embarked_Q  cat2__Embarked_S  \n",
       "0               0.0               1.0  \n",
       "1               0.0               0.0  \n",
       "2               0.0               1.0  \n",
       "3               0.0               1.0  \n",
       "4               0.0               1.0  \n",
       "\n",
       "[5 rows x 986 columns]"
      ]
     },
     "execution_count": 16,
     "metadata": {},
     "output_type": "execute_result"
    }
   ],
   "source": [
    "X_pre = pd.DataFrame(X_pre,columns=cols)\n",
    "X_pre.head()"
   ]
  },
  {
   "attachments": {},
   "cell_type": "markdown",
   "metadata": {},
   "source": [
    "TRAIN TEST SPLIT"
   ]
  },
  {
   "cell_type": "code",
   "execution_count": 17,
   "metadata": {},
   "outputs": [],
   "source": [
    "from sklearn.model_selection import train_test_split\n",
    "xtrain,xtest,ytrain,ytest = train_test_split(X_pre,Y,test_size=0.2,random_state=42)"
   ]
  },
  {
   "cell_type": "code",
   "execution_count": 18,
   "metadata": {},
   "outputs": [
    {
     "data": {
      "text/plain": [
       "(179, 986)"
      ]
     },
     "execution_count": 18,
     "metadata": {},
     "output_type": "execute_result"
    }
   ],
   "source": [
    "xtest.shape"
   ]
  },
  {
   "cell_type": "code",
   "execution_count": 19,
   "metadata": {},
   "outputs": [
    {
     "data": {
      "text/plain": [
       "(712, 986)"
      ]
     },
     "execution_count": 19,
     "metadata": {},
     "output_type": "execute_result"
    }
   ],
   "source": [
    "xtrain.shape"
   ]
  },
  {
   "cell_type": "code",
   "execution_count": 20,
   "metadata": {},
   "outputs": [
    {
     "data": {
      "text/plain": [
       "Survived\n",
       "0           549\n",
       "1           342\n",
       "Name: count, dtype: int64"
      ]
     },
     "execution_count": 20,
     "metadata": {},
     "output_type": "execute_result"
    }
   ],
   "source": [
    "Y.value_counts()"
   ]
  },
  {
   "attachments": {},
   "cell_type": "markdown",
   "metadata": {},
   "source": [
    "ALGORITHM EVALUTION"
   ]
  },
  {
   "cell_type": "code",
   "execution_count": 21,
   "metadata": {},
   "outputs": [],
   "source": [
    "from sklearn.linear_model import  LogisticRegression\n",
    "from sklearn.tree import DecisionTreeClassifier\n",
    "from sklearn.ensemble import RandomForestClassifier , GradientBoostingClassifier\n",
    "from sklearn.neighbors import KNeighborsClassifier\n",
    "from sklearn.svm import SVC"
   ]
  },
  {
   "cell_type": "code",
   "execution_count": 22,
   "metadata": {},
   "outputs": [],
   "source": [
    "dct = {'Logistic':LogisticRegression(),\n",
    "        'Decision Tree':DecisionTreeClassifier(),\n",
    "        'Random Forest':RandomForestClassifier(),\n",
    "        'Gradient Boost':GradientBoostingClassifier(),\n",
    "        'KNN':KNeighborsClassifier(),\n",
    "        'SVM':SVC()}\n",
    "\n"
   ]
  },
  {
   "cell_type": "code",
   "execution_count": 23,
   "metadata": {},
   "outputs": [
    {
     "data": {
      "text/plain": [
       "dict_items([('Logistic', LogisticRegression()), ('Decision Tree', DecisionTreeClassifier()), ('Random Forest', RandomForestClassifier()), ('Gradient Boost', GradientBoostingClassifier()), ('KNN', KNeighborsClassifier()), ('SVM', SVC())])"
      ]
     },
     "execution_count": 23,
     "metadata": {},
     "output_type": "execute_result"
    }
   ],
   "source": [
    "dct.items()"
   ]
  },
  {
   "cell_type": "code",
   "execution_count": 24,
   "metadata": {},
   "outputs": [
    {
     "name": "stdout",
     "output_type": "stream",
     "text": [
      "Model : Logistic\n",
      "Training F1 : 0.8359374999999999\n",
      "Testing F1  : 0.7916666666666666\n",
      "Cross Validated : 0.7295206869474147\n",
      "\n",
      "==========================================\n",
      "\n",
      "Model : Decision Tree\n",
      "Training F1 : 0.9981308411214954\n",
      "Testing F1  : 0.7832167832167832\n",
      "Cross Validated : 0.7396640252942589\n",
      "\n",
      "==========================================\n",
      "\n",
      "Model : Random Forest\n",
      "Training F1 : 0.9981308411214954\n",
      "Testing F1  : 0.7819548872180451\n",
      "Cross Validated : 0.7568831924008727\n",
      "\n",
      "==========================================\n",
      "\n",
      "Model : Gradient Boost\n",
      "Training F1 : 0.8140495867768596\n",
      "Testing F1  : 0.7352941176470588\n",
      "Cross Validated : 0.7495190793671036\n",
      "\n",
      "==========================================\n",
      "\n",
      "Model : KNN\n",
      "Training F1 : 0.8172888015717092\n",
      "Testing F1  : 0.7482014388489208\n",
      "Cross Validated : 0.7066957108233114\n",
      "\n",
      "==========================================\n",
      "\n",
      "Model : SVM\n",
      "Training F1 : 0.7953216374269005\n",
      "Testing F1  : 0.7659574468085106\n",
      "Cross Validated : 0.7528148382191789\n",
      "\n",
      "==========================================\n",
      "\n"
     ]
    }
   ],
   "source": [
    "from sklearn.metrics import f1_score\n",
    "from sklearn.model_selection import cross_val_score\n",
    "tr = []\n",
    "tr_cv = []\n",
    "ts = []\n",
    "for name, model in dct.items():\n",
    "    # Fit the model\n",
    "    model.fit(xtrain,ytrain)\n",
    "    # Predict Training and testing values\n",
    "    ypred_tr = model.predict(xtrain)\n",
    "    ypred_ts = model.predict(xtest)\n",
    "    # Calulate F1 score in training and testing\n",
    "    tr_f1 = f1_score(ytrain,ypred_tr)\n",
    "    ts_f1 = f1_score(ytest,ypred_ts)\n",
    "    # Cross Validation F1 on training\n",
    "    scores = cross_val_score(model,xtrain,ytrain,cv=5,scoring='f1')\n",
    "    f1_cv = scores.mean()\n",
    "    # Append all above values in the lists\n",
    "    tr.append(tr_f1)\n",
    "    ts.append(ts_f1)\n",
    "    tr_cv.append(f1_cv)\n",
    "    # Print the results\n",
    "    print(f'Model : {name}')\n",
    "    print(f'Training F1 : {tr_f1}')\n",
    "    print(f'Testing F1  : {ts_f1}')\n",
    "    print(f'Cross Validated : {f1_cv}')\n",
    "    print('\\n==========================================\\n')"
   ]
  },
  {
   "attachments": {},
   "cell_type": "markdown",
   "metadata": {},
   "source": [
    "STORING ABOVE RESULTS IN DataFrame format"
   ]
  },
  {
   "cell_type": "code",
   "execution_count": 26,
   "metadata": {},
   "outputs": [],
   "source": [
    "eval_dct = {'Model_name':list(dct.keys()),\n",
    "            'Train F1' :tr,\n",
    "            'Test F1' : ts,\n",
    "            'F1 CV' : tr_cv}\n",
    "\n",
    "eval_df = pd.DataFrame(eval_dct)"
   ]
  },
  {
   "cell_type": "code",
   "execution_count": 27,
   "metadata": {},
   "outputs": [
    {
     "data": {
      "text/html": [
       "<div>\n",
       "<style scoped>\n",
       "    .dataframe tbody tr th:only-of-type {\n",
       "        vertical-align: middle;\n",
       "    }\n",
       "\n",
       "    .dataframe tbody tr th {\n",
       "        vertical-align: top;\n",
       "    }\n",
       "\n",
       "    .dataframe thead th {\n",
       "        text-align: right;\n",
       "    }\n",
       "</style>\n",
       "<table border=\"1\" class=\"dataframe\">\n",
       "  <thead>\n",
       "    <tr style=\"text-align: right;\">\n",
       "      <th></th>\n",
       "      <th>Model_name</th>\n",
       "      <th>Train F1</th>\n",
       "      <th>Test F1</th>\n",
       "      <th>F1 CV</th>\n",
       "    </tr>\n",
       "  </thead>\n",
       "  <tbody>\n",
       "    <tr>\n",
       "      <th>0</th>\n",
       "      <td>Logistic</td>\n",
       "      <td>0.835937</td>\n",
       "      <td>0.791667</td>\n",
       "      <td>0.729521</td>\n",
       "    </tr>\n",
       "    <tr>\n",
       "      <th>1</th>\n",
       "      <td>Decision Tree</td>\n",
       "      <td>0.998131</td>\n",
       "      <td>0.783217</td>\n",
       "      <td>0.739664</td>\n",
       "    </tr>\n",
       "    <tr>\n",
       "      <th>2</th>\n",
       "      <td>Random Forest</td>\n",
       "      <td>0.998131</td>\n",
       "      <td>0.781955</td>\n",
       "      <td>0.756883</td>\n",
       "    </tr>\n",
       "    <tr>\n",
       "      <th>3</th>\n",
       "      <td>Gradient Boost</td>\n",
       "      <td>0.814050</td>\n",
       "      <td>0.735294</td>\n",
       "      <td>0.749519</td>\n",
       "    </tr>\n",
       "    <tr>\n",
       "      <th>4</th>\n",
       "      <td>KNN</td>\n",
       "      <td>0.817289</td>\n",
       "      <td>0.748201</td>\n",
       "      <td>0.706696</td>\n",
       "    </tr>\n",
       "    <tr>\n",
       "      <th>5</th>\n",
       "      <td>SVM</td>\n",
       "      <td>0.795322</td>\n",
       "      <td>0.765957</td>\n",
       "      <td>0.752815</td>\n",
       "    </tr>\n",
       "  </tbody>\n",
       "</table>\n",
       "</div>"
      ],
      "text/plain": [
       "       Model_name  Train F1   Test F1     F1 CV\n",
       "0        Logistic  0.835937  0.791667  0.729521\n",
       "1   Decision Tree  0.998131  0.783217  0.739664\n",
       "2   Random Forest  0.998131  0.781955  0.756883\n",
       "3  Gradient Boost  0.814050  0.735294  0.749519\n",
       "4             KNN  0.817289  0.748201  0.706696\n",
       "5             SVM  0.795322  0.765957  0.752815"
      ]
     },
     "execution_count": 27,
     "metadata": {},
     "output_type": "execute_result"
    }
   ],
   "source": [
    "eval_df"
   ]
  },
  {
   "cell_type": "code",
   "execution_count": 28,
   "metadata": {},
   "outputs": [
    {
     "data": {
      "text/html": [
       "<div>\n",
       "<style scoped>\n",
       "    .dataframe tbody tr th:only-of-type {\n",
       "        vertical-align: middle;\n",
       "    }\n",
       "\n",
       "    .dataframe tbody tr th {\n",
       "        vertical-align: top;\n",
       "    }\n",
       "\n",
       "    .dataframe thead th {\n",
       "        text-align: right;\n",
       "    }\n",
       "</style>\n",
       "<table border=\"1\" class=\"dataframe\">\n",
       "  <thead>\n",
       "    <tr style=\"text-align: right;\">\n",
       "      <th></th>\n",
       "      <th>Model_name</th>\n",
       "      <th>Train F1</th>\n",
       "      <th>Test F1</th>\n",
       "      <th>F1 CV</th>\n",
       "    </tr>\n",
       "  </thead>\n",
       "  <tbody>\n",
       "    <tr>\n",
       "      <th>0</th>\n",
       "      <td>Logistic</td>\n",
       "      <td>0.835937</td>\n",
       "      <td>0.791667</td>\n",
       "      <td>0.729521</td>\n",
       "    </tr>\n",
       "    <tr>\n",
       "      <th>1</th>\n",
       "      <td>Decision Tree</td>\n",
       "      <td>0.998131</td>\n",
       "      <td>0.783217</td>\n",
       "      <td>0.739664</td>\n",
       "    </tr>\n",
       "    <tr>\n",
       "      <th>2</th>\n",
       "      <td>Random Forest</td>\n",
       "      <td>0.998131</td>\n",
       "      <td>0.781955</td>\n",
       "      <td>0.756883</td>\n",
       "    </tr>\n",
       "    <tr>\n",
       "      <th>5</th>\n",
       "      <td>SVM</td>\n",
       "      <td>0.795322</td>\n",
       "      <td>0.765957</td>\n",
       "      <td>0.752815</td>\n",
       "    </tr>\n",
       "    <tr>\n",
       "      <th>4</th>\n",
       "      <td>KNN</td>\n",
       "      <td>0.817289</td>\n",
       "      <td>0.748201</td>\n",
       "      <td>0.706696</td>\n",
       "    </tr>\n",
       "    <tr>\n",
       "      <th>3</th>\n",
       "      <td>Gradient Boost</td>\n",
       "      <td>0.814050</td>\n",
       "      <td>0.735294</td>\n",
       "      <td>0.749519</td>\n",
       "    </tr>\n",
       "  </tbody>\n",
       "</table>\n",
       "</div>"
      ],
      "text/plain": [
       "       Model_name  Train F1   Test F1     F1 CV\n",
       "0        Logistic  0.835937  0.791667  0.729521\n",
       "1   Decision Tree  0.998131  0.783217  0.739664\n",
       "2   Random Forest  0.998131  0.781955  0.756883\n",
       "5             SVM  0.795322  0.765957  0.752815\n",
       "4             KNN  0.817289  0.748201  0.706696\n",
       "3  Gradient Boost  0.814050  0.735294  0.749519"
      ]
     },
     "execution_count": 28,
     "metadata": {},
     "output_type": "execute_result"
    }
   ],
   "source": [
    "eval_df.sort_values(by='Test F1',ascending=False)"
   ]
  },
  {
   "attachments": {},
   "cell_type": "markdown",
   "metadata": {},
   "source": [
    "SELECTING BEST MODEL LOGISTIC REGRESSION"
   ]
  },
  {
   "cell_type": "code",
   "execution_count": 29,
   "metadata": {},
   "outputs": [],
   "source": [
    "params = {'C':[100,50,10,1,0.5,0.1,0.01]}"
   ]
  },
  {
   "cell_type": "code",
   "execution_count": 32,
   "metadata": {},
   "outputs": [
    {
     "data": {
      "text/html": [
       "<style>#sk-container-id-1 {color: black;background-color: white;}#sk-container-id-1 pre{padding: 0;}#sk-container-id-1 div.sk-toggleable {background-color: white;}#sk-container-id-1 label.sk-toggleable__label {cursor: pointer;display: block;width: 100%;margin-bottom: 0;padding: 0.3em;box-sizing: border-box;text-align: center;}#sk-container-id-1 label.sk-toggleable__label-arrow:before {content: \"▸\";float: left;margin-right: 0.25em;color: #696969;}#sk-container-id-1 label.sk-toggleable__label-arrow:hover:before {color: black;}#sk-container-id-1 div.sk-estimator:hover label.sk-toggleable__label-arrow:before {color: black;}#sk-container-id-1 div.sk-toggleable__content {max-height: 0;max-width: 0;overflow: hidden;text-align: left;background-color: #f0f8ff;}#sk-container-id-1 div.sk-toggleable__content pre {margin: 0.2em;color: black;border-radius: 0.25em;background-color: #f0f8ff;}#sk-container-id-1 input.sk-toggleable__control:checked~div.sk-toggleable__content {max-height: 200px;max-width: 100%;overflow: auto;}#sk-container-id-1 input.sk-toggleable__control:checked~label.sk-toggleable__label-arrow:before {content: \"▾\";}#sk-container-id-1 div.sk-estimator input.sk-toggleable__control:checked~label.sk-toggleable__label {background-color: #d4ebff;}#sk-container-id-1 div.sk-label input.sk-toggleable__control:checked~label.sk-toggleable__label {background-color: #d4ebff;}#sk-container-id-1 input.sk-hidden--visually {border: 0;clip: rect(1px 1px 1px 1px);clip: rect(1px, 1px, 1px, 1px);height: 1px;margin: -1px;overflow: hidden;padding: 0;position: absolute;width: 1px;}#sk-container-id-1 div.sk-estimator {font-family: monospace;background-color: #f0f8ff;border: 1px dotted black;border-radius: 0.25em;box-sizing: border-box;margin-bottom: 0.5em;}#sk-container-id-1 div.sk-estimator:hover {background-color: #d4ebff;}#sk-container-id-1 div.sk-parallel-item::after {content: \"\";width: 100%;border-bottom: 1px solid gray;flex-grow: 1;}#sk-container-id-1 div.sk-label:hover label.sk-toggleable__label {background-color: #d4ebff;}#sk-container-id-1 div.sk-serial::before {content: \"\";position: absolute;border-left: 1px solid gray;box-sizing: border-box;top: 0;bottom: 0;left: 50%;z-index: 0;}#sk-container-id-1 div.sk-serial {display: flex;flex-direction: column;align-items: center;background-color: white;padding-right: 0.2em;padding-left: 0.2em;position: relative;}#sk-container-id-1 div.sk-item {position: relative;z-index: 1;}#sk-container-id-1 div.sk-parallel {display: flex;align-items: stretch;justify-content: center;background-color: white;position: relative;}#sk-container-id-1 div.sk-item::before, #sk-container-id-1 div.sk-parallel-item::before {content: \"\";position: absolute;border-left: 1px solid gray;box-sizing: border-box;top: 0;bottom: 0;left: 50%;z-index: -1;}#sk-container-id-1 div.sk-parallel-item {display: flex;flex-direction: column;z-index: 1;position: relative;background-color: white;}#sk-container-id-1 div.sk-parallel-item:first-child::after {align-self: flex-end;width: 50%;}#sk-container-id-1 div.sk-parallel-item:last-child::after {align-self: flex-start;width: 50%;}#sk-container-id-1 div.sk-parallel-item:only-child::after {width: 0;}#sk-container-id-1 div.sk-dashed-wrapped {border: 1px dashed gray;margin: 0 0.4em 0.5em 0.4em;box-sizing: border-box;padding-bottom: 0.4em;background-color: white;}#sk-container-id-1 div.sk-label label {font-family: monospace;font-weight: bold;display: inline-block;line-height: 1.2em;}#sk-container-id-1 div.sk-label-container {text-align: center;}#sk-container-id-1 div.sk-container {/* jupyter's `normalize.less` sets `[hidden] { display: none; }` but bootstrap.min.css set `[hidden] { display: none !important; }` so we also need the `!important` here to be able to override the default hidden behavior on the sphinx rendered scikit-learn.org. See: https://github.com/scikit-learn/scikit-learn/issues/21755 */display: inline-block !important;position: relative;}#sk-container-id-1 div.sk-text-repr-fallback {display: none;}</style><div id=\"sk-container-id-1\" class=\"sk-top-container\"><div class=\"sk-text-repr-fallback\"><pre>RandomizedSearchCV(cv=5, estimator=LogisticRegression(),\n",
       "                   param_distributions={&#x27;C&#x27;: [100, 50, 10, 1, 0.5, 0.1, 0.01]},\n",
       "                   scoring=&#x27;f1&#x27;)</pre><b>In a Jupyter environment, please rerun this cell to show the HTML representation or trust the notebook. <br />On GitHub, the HTML representation is unable to render, please try loading this page with nbviewer.org.</b></div><div class=\"sk-container\" hidden><div class=\"sk-item sk-dashed-wrapped\"><div class=\"sk-label-container\"><div class=\"sk-label sk-toggleable\"><input class=\"sk-toggleable__control sk-hidden--visually\" id=\"sk-estimator-id-1\" type=\"checkbox\" ><label for=\"sk-estimator-id-1\" class=\"sk-toggleable__label sk-toggleable__label-arrow\">RandomizedSearchCV</label><div class=\"sk-toggleable__content\"><pre>RandomizedSearchCV(cv=5, estimator=LogisticRegression(),\n",
       "                   param_distributions={&#x27;C&#x27;: [100, 50, 10, 1, 0.5, 0.1, 0.01]},\n",
       "                   scoring=&#x27;f1&#x27;)</pre></div></div></div><div class=\"sk-parallel\"><div class=\"sk-parallel-item\"><div class=\"sk-item\"><div class=\"sk-label-container\"><div class=\"sk-label sk-toggleable\"><input class=\"sk-toggleable__control sk-hidden--visually\" id=\"sk-estimator-id-2\" type=\"checkbox\" ><label for=\"sk-estimator-id-2\" class=\"sk-toggleable__label sk-toggleable__label-arrow\">estimator: LogisticRegression</label><div class=\"sk-toggleable__content\"><pre>LogisticRegression()</pre></div></div></div><div class=\"sk-serial\"><div class=\"sk-item\"><div class=\"sk-estimator sk-toggleable\"><input class=\"sk-toggleable__control sk-hidden--visually\" id=\"sk-estimator-id-3\" type=\"checkbox\" ><label for=\"sk-estimator-id-3\" class=\"sk-toggleable__label sk-toggleable__label-arrow\">LogisticRegression</label><div class=\"sk-toggleable__content\"><pre>LogisticRegression()</pre></div></div></div></div></div></div></div></div></div></div>"
      ],
      "text/plain": [
       "RandomizedSearchCV(cv=5, estimator=LogisticRegression(),\n",
       "                   param_distributions={'C': [100, 50, 10, 1, 0.5, 0.1, 0.01]},\n",
       "                   scoring='f1')"
      ]
     },
     "execution_count": 32,
     "metadata": {},
     "output_type": "execute_result"
    }
   ],
   "source": [
    "from sklearn.linear_model import LogisticRegression\n",
    "from sklearn.model_selection import RandomizedSearchCV\n",
    "lr = LogisticRegression()\n",
    "rscv = RandomizedSearchCV(lr,param_distributions=params,cv=5,scoring='f1')\n",
    "rscv.fit(xtrain,ytrain)"
   ]
  },
  {
   "cell_type": "code",
   "execution_count": 33,
   "metadata": {},
   "outputs": [
    {
     "data": {
      "text/plain": [
       "{'C': 50}"
      ]
     },
     "execution_count": 33,
     "metadata": {},
     "output_type": "execute_result"
    }
   ],
   "source": [
    "rscv.best_params_"
   ]
  },
  {
   "cell_type": "code",
   "execution_count": 34,
   "metadata": {},
   "outputs": [
    {
     "data": {
      "text/plain": [
       "0.7509266601907215"
      ]
     },
     "execution_count": 34,
     "metadata": {},
     "output_type": "execute_result"
    }
   ],
   "source": [
    "rscv.best_score_"
   ]
  },
  {
   "cell_type": "code",
   "execution_count": 35,
   "metadata": {},
   "outputs": [
    {
     "data": {
      "text/html": [
       "<style>#sk-container-id-2 {color: black;background-color: white;}#sk-container-id-2 pre{padding: 0;}#sk-container-id-2 div.sk-toggleable {background-color: white;}#sk-container-id-2 label.sk-toggleable__label {cursor: pointer;display: block;width: 100%;margin-bottom: 0;padding: 0.3em;box-sizing: border-box;text-align: center;}#sk-container-id-2 label.sk-toggleable__label-arrow:before {content: \"▸\";float: left;margin-right: 0.25em;color: #696969;}#sk-container-id-2 label.sk-toggleable__label-arrow:hover:before {color: black;}#sk-container-id-2 div.sk-estimator:hover label.sk-toggleable__label-arrow:before {color: black;}#sk-container-id-2 div.sk-toggleable__content {max-height: 0;max-width: 0;overflow: hidden;text-align: left;background-color: #f0f8ff;}#sk-container-id-2 div.sk-toggleable__content pre {margin: 0.2em;color: black;border-radius: 0.25em;background-color: #f0f8ff;}#sk-container-id-2 input.sk-toggleable__control:checked~div.sk-toggleable__content {max-height: 200px;max-width: 100%;overflow: auto;}#sk-container-id-2 input.sk-toggleable__control:checked~label.sk-toggleable__label-arrow:before {content: \"▾\";}#sk-container-id-2 div.sk-estimator input.sk-toggleable__control:checked~label.sk-toggleable__label {background-color: #d4ebff;}#sk-container-id-2 div.sk-label input.sk-toggleable__control:checked~label.sk-toggleable__label {background-color: #d4ebff;}#sk-container-id-2 input.sk-hidden--visually {border: 0;clip: rect(1px 1px 1px 1px);clip: rect(1px, 1px, 1px, 1px);height: 1px;margin: -1px;overflow: hidden;padding: 0;position: absolute;width: 1px;}#sk-container-id-2 div.sk-estimator {font-family: monospace;background-color: #f0f8ff;border: 1px dotted black;border-radius: 0.25em;box-sizing: border-box;margin-bottom: 0.5em;}#sk-container-id-2 div.sk-estimator:hover {background-color: #d4ebff;}#sk-container-id-2 div.sk-parallel-item::after {content: \"\";width: 100%;border-bottom: 1px solid gray;flex-grow: 1;}#sk-container-id-2 div.sk-label:hover label.sk-toggleable__label {background-color: #d4ebff;}#sk-container-id-2 div.sk-serial::before {content: \"\";position: absolute;border-left: 1px solid gray;box-sizing: border-box;top: 0;bottom: 0;left: 50%;z-index: 0;}#sk-container-id-2 div.sk-serial {display: flex;flex-direction: column;align-items: center;background-color: white;padding-right: 0.2em;padding-left: 0.2em;position: relative;}#sk-container-id-2 div.sk-item {position: relative;z-index: 1;}#sk-container-id-2 div.sk-parallel {display: flex;align-items: stretch;justify-content: center;background-color: white;position: relative;}#sk-container-id-2 div.sk-item::before, #sk-container-id-2 div.sk-parallel-item::before {content: \"\";position: absolute;border-left: 1px solid gray;box-sizing: border-box;top: 0;bottom: 0;left: 50%;z-index: -1;}#sk-container-id-2 div.sk-parallel-item {display: flex;flex-direction: column;z-index: 1;position: relative;background-color: white;}#sk-container-id-2 div.sk-parallel-item:first-child::after {align-self: flex-end;width: 50%;}#sk-container-id-2 div.sk-parallel-item:last-child::after {align-self: flex-start;width: 50%;}#sk-container-id-2 div.sk-parallel-item:only-child::after {width: 0;}#sk-container-id-2 div.sk-dashed-wrapped {border: 1px dashed gray;margin: 0 0.4em 0.5em 0.4em;box-sizing: border-box;padding-bottom: 0.4em;background-color: white;}#sk-container-id-2 div.sk-label label {font-family: monospace;font-weight: bold;display: inline-block;line-height: 1.2em;}#sk-container-id-2 div.sk-label-container {text-align: center;}#sk-container-id-2 div.sk-container {/* jupyter's `normalize.less` sets `[hidden] { display: none; }` but bootstrap.min.css set `[hidden] { display: none !important; }` so we also need the `!important` here to be able to override the default hidden behavior on the sphinx rendered scikit-learn.org. See: https://github.com/scikit-learn/scikit-learn/issues/21755 */display: inline-block !important;position: relative;}#sk-container-id-2 div.sk-text-repr-fallback {display: none;}</style><div id=\"sk-container-id-2\" class=\"sk-top-container\"><div class=\"sk-text-repr-fallback\"><pre>LogisticRegression(C=50)</pre><b>In a Jupyter environment, please rerun this cell to show the HTML representation or trust the notebook. <br />On GitHub, the HTML representation is unable to render, please try loading this page with nbviewer.org.</b></div><div class=\"sk-container\" hidden><div class=\"sk-item\"><div class=\"sk-estimator sk-toggleable\"><input class=\"sk-toggleable__control sk-hidden--visually\" id=\"sk-estimator-id-4\" type=\"checkbox\" checked><label for=\"sk-estimator-id-4\" class=\"sk-toggleable__label sk-toggleable__label-arrow\">LogisticRegression</label><div class=\"sk-toggleable__content\"><pre>LogisticRegression(C=50)</pre></div></div></div></div></div>"
      ],
      "text/plain": [
       "LogisticRegression(C=50)"
      ]
     },
     "execution_count": 35,
     "metadata": {},
     "output_type": "execute_result"
    }
   ],
   "source": [
    "best_lr = rscv.best_estimator_\n",
    "best_lr"
   ]
  },
  {
   "cell_type": "code",
   "execution_count": 36,
   "metadata": {},
   "outputs": [],
   "source": [
    "ypred_tr = best_lr.predict(xtrain)\n",
    "ypred_ts = best_lr.predict(xtest)"
   ]
  },
  {
   "cell_type": "code",
   "execution_count": 37,
   "metadata": {},
   "outputs": [],
   "source": [
    "tr_f1 = f1_score(ytrain,ypred_tr)\n",
    "ts_f1 = f1_score(ytest,ypred_ts)"
   ]
  },
  {
   "cell_type": "code",
   "execution_count": 38,
   "metadata": {},
   "outputs": [
    {
     "data": {
      "text/plain": [
       "0.9869646182495344"
      ]
     },
     "execution_count": 38,
     "metadata": {},
     "output_type": "execute_result"
    }
   ],
   "source": [
    "tr_f1"
   ]
  },
  {
   "cell_type": "code",
   "execution_count": 39,
   "metadata": {},
   "outputs": [
    {
     "data": {
      "text/plain": [
       "0.7943262411347517"
      ]
     },
     "execution_count": 39,
     "metadata": {},
     "output_type": "execute_result"
    }
   ],
   "source": [
    "ts_f1"
   ]
  },
  {
   "attachments": {},
   "cell_type": "markdown",
   "metadata": {},
   "source": [
    "CONFUSION MATIX"
   ]
  },
  {
   "cell_type": "code",
   "execution_count": 40,
   "metadata": {},
   "outputs": [
    {
     "data": {
      "text/plain": [
       "<sklearn.metrics._plot.confusion_matrix.ConfusionMatrixDisplay at 0x1f3396cef90>"
      ]
     },
     "execution_count": 40,
     "metadata": {},
     "output_type": "execute_result"
    },
    {
     "data": {
      "image/png": "[encoded data removed]",
      "text/plain": [
       "<Figure size 640x480 with 2 Axes>"
      ]
     },
     "metadata": {},
     "output_type": "display_data"
    }
   ],
   "source": [
    "from sklearn.metrics import  confusion_matrix, ConfusionMatrixDisplay\n",
    "cf = confusion_matrix(ytest,ypred_ts)\n",
    "cfd = ConfusionMatrixDisplay(cf,display_labels=best_lr.classes_)\n",
    "cfd.plot()"
   ]
  },
  {
   "attachments": {},
   "cell_type": "markdown",
   "metadata": {},
   "source": []
  },
  {
   "attachments": {},
   "cell_type": "markdown",
   "metadata": {},
   "source": [
    "PRINT CLASSIFICATION REPORT"
   ]
  },
  {
   "cell_type": "code",
   "execution_count": 41,
   "metadata": {},
   "outputs": [
    {
     "name": "stdout",
     "output_type": "stream",
     "text": [
      "              precision    recall  f1-score   support\n",
      "\n",
      "           0       0.84      0.90      0.87       105\n",
      "           1       0.84      0.76      0.79        74\n",
      "\n",
      "    accuracy                           0.84       179\n",
      "   macro avg       0.84      0.83      0.83       179\n",
      "weighted avg       0.84      0.84      0.84       179\n",
      "\n"
     ]
    }
   ],
   "source": [
    "from sklearn.metrics import classification_report\n",
    "print (classification_report(ytest,ypred_ts))"
   ]
  },
  {
   "attachments": {},
   "cell_type": "markdown",
   "metadata": {},
   "source": [
    "CREATE VOTING CLASSIFIER"
   ]
  },
  {
   "cell_type": "code",
   "execution_count": 47,
   "metadata": {},
   "outputs": [],
   "source": [
    "params1 = {'max_depth':[2,3,4,5,6],\n",
    "           'min_samples_split':[6,7,8,9,10],\n",
    "           'criterion':['gini','entropy']}"
   ]
  },
  {
   "cell_type": "code",
   "execution_count": 48,
   "metadata": {},
   "outputs": [],
   "source": [
    "dtc = DecisionTreeClassifier()\n",
    "rscv1 = RandomizedSearchCV(dtc,param_distributions=params1,cv=5,scoring='f1')\n"
   ]
  },
  {
   "cell_type": "code",
   "execution_count": 49,
   "metadata": {},
   "outputs": [
    {
     "data": {
      "text/html": [
       "<style>#sk-container-id-3 {color: black;background-color: white;}#sk-container-id-3 pre{padding: 0;}#sk-container-id-3 div.sk-toggleable {background-color: white;}#sk-container-id-3 label.sk-toggleable__label {cursor: pointer;display: block;width: 100%;margin-bottom: 0;padding: 0.3em;box-sizing: border-box;text-align: center;}#sk-container-id-3 label.sk-toggleable__label-arrow:before {content: \"▸\";float: left;margin-right: 0.25em;color: #696969;}#sk-container-id-3 label.sk-toggleable__label-arrow:hover:before {color: black;}#sk-container-id-3 div.sk-estimator:hover label.sk-toggleable__label-arrow:before {color: black;}#sk-container-id-3 div.sk-toggleable__content {max-height: 0;max-width: 0;overflow: hidden;text-align: left;background-color: #f0f8ff;}#sk-container-id-3 div.sk-toggleable__content pre {margin: 0.2em;color: black;border-radius: 0.25em;background-color: #f0f8ff;}#sk-container-id-3 input.sk-toggleable__control:checked~div.sk-toggleable__content {max-height: 200px;max-width: 100%;overflow: auto;}#sk-container-id-3 input.sk-toggleable__control:checked~label.sk-toggleable__label-arrow:before {content: \"▾\";}#sk-container-id-3 div.sk-estimator input.sk-toggleable__control:checked~label.sk-toggleable__label {background-color: #d4ebff;}#sk-container-id-3 div.sk-label input.sk-toggleable__control:checked~label.sk-toggleable__label {background-color: #d4ebff;}#sk-container-id-3 input.sk-hidden--visually {border: 0;clip: rect(1px 1px 1px 1px);clip: rect(1px, 1px, 1px, 1px);height: 1px;margin: -1px;overflow: hidden;padding: 0;position: absolute;width: 1px;}#sk-container-id-3 div.sk-estimator {font-family: monospace;background-color: #f0f8ff;border: 1px dotted black;border-radius: 0.25em;box-sizing: border-box;margin-bottom: 0.5em;}#sk-container-id-3 div.sk-estimator:hover {background-color: #d4ebff;}#sk-container-id-3 div.sk-parallel-item::after {content: \"\";width: 100%;border-bottom: 1px solid gray;flex-grow: 1;}#sk-container-id-3 div.sk-label:hover label.sk-toggleable__label {background-color: #d4ebff;}#sk-container-id-3 div.sk-serial::before {content: \"\";position: absolute;border-left: 1px solid gray;box-sizing: border-box;top: 0;bottom: 0;left: 50%;z-index: 0;}#sk-container-id-3 div.sk-serial {display: flex;flex-direction: column;align-items: center;background-color: white;padding-right: 0.2em;padding-left: 0.2em;position: relative;}#sk-container-id-3 div.sk-item {position: relative;z-index: 1;}#sk-container-id-3 div.sk-parallel {display: flex;align-items: stretch;justify-content: center;background-color: white;position: relative;}#sk-container-id-3 div.sk-item::before, #sk-container-id-3 div.sk-parallel-item::before {content: \"\";position: absolute;border-left: 1px solid gray;box-sizing: border-box;top: 0;bottom: 0;left: 50%;z-index: -1;}#sk-container-id-3 div.sk-parallel-item {display: flex;flex-direction: column;z-index: 1;position: relative;background-color: white;}#sk-container-id-3 div.sk-parallel-item:first-child::after {align-self: flex-end;width: 50%;}#sk-container-id-3 div.sk-parallel-item:last-child::after {align-self: flex-start;width: 50%;}#sk-container-id-3 div.sk-parallel-item:only-child::after {width: 0;}#sk-container-id-3 div.sk-dashed-wrapped {border: 1px dashed gray;margin: 0 0.4em 0.5em 0.4em;box-sizing: border-box;padding-bottom: 0.4em;background-color: white;}#sk-container-id-3 div.sk-label label {font-family: monospace;font-weight: bold;display: inline-block;line-height: 1.2em;}#sk-container-id-3 div.sk-label-container {text-align: center;}#sk-container-id-3 div.sk-container {/* jupyter's `normalize.less` sets `[hidden] { display: none; }` but bootstrap.min.css set `[hidden] { display: none !important; }` so we also need the `!important` here to be able to override the default hidden behavior on the sphinx rendered scikit-learn.org. See: https://github.com/scikit-learn/scikit-learn/issues/21755 */display: inline-block !important;position: relative;}#sk-container-id-3 div.sk-text-repr-fallback {display: none;}</style><div id=\"sk-container-id-3\" class=\"sk-top-container\"><div class=\"sk-text-repr-fallback\"><pre>RandomizedSearchCV(cv=5, estimator=DecisionTreeClassifier(),\n",
       "                   param_distributions={&#x27;criterion&#x27;: [&#x27;gini&#x27;, &#x27;entropy&#x27;],\n",
       "                                        &#x27;max_depth&#x27;: [2, 3, 4, 5, 6],\n",
       "                                        &#x27;min_samples_split&#x27;: [6, 7, 8, 9, 10]},\n",
       "                   scoring=&#x27;f1&#x27;)</pre><b>In a Jupyter environment, please rerun this cell to show the HTML representation or trust the notebook. <br />On GitHub, the HTML representation is unable to render, please try loading this page with nbviewer.org.</b></div><div class=\"sk-container\" hidden><div class=\"sk-item sk-dashed-wrapped\"><div class=\"sk-label-container\"><div class=\"sk-label sk-toggleable\"><input class=\"sk-toggleable__control sk-hidden--visually\" id=\"sk-estimator-id-5\" type=\"checkbox\" ><label for=\"sk-estimator-id-5\" class=\"sk-toggleable__label sk-toggleable__label-arrow\">RandomizedSearchCV</label><div class=\"sk-toggleable__content\"><pre>RandomizedSearchCV(cv=5, estimator=DecisionTreeClassifier(),\n",
       "                   param_distributions={&#x27;criterion&#x27;: [&#x27;gini&#x27;, &#x27;entropy&#x27;],\n",
       "                                        &#x27;max_depth&#x27;: [2, 3, 4, 5, 6],\n",
       "                                        &#x27;min_samples_split&#x27;: [6, 7, 8, 9, 10]},\n",
       "                   scoring=&#x27;f1&#x27;)</pre></div></div></div><div class=\"sk-parallel\"><div class=\"sk-parallel-item\"><div class=\"sk-item\"><div class=\"sk-label-container\"><div class=\"sk-label sk-toggleable\"><input class=\"sk-toggleable__control sk-hidden--visually\" id=\"sk-estimator-id-6\" type=\"checkbox\" ><label for=\"sk-estimator-id-6\" class=\"sk-toggleable__label sk-toggleable__label-arrow\">estimator: DecisionTreeClassifier</label><div class=\"sk-toggleable__content\"><pre>DecisionTreeClassifier()</pre></div></div></div><div class=\"sk-serial\"><div class=\"sk-item\"><div class=\"sk-estimator sk-toggleable\"><input class=\"sk-toggleable__control sk-hidden--visually\" id=\"sk-estimator-id-7\" type=\"checkbox\" ><label for=\"sk-estimator-id-7\" class=\"sk-toggleable__label sk-toggleable__label-arrow\">DecisionTreeClassifier</label><div class=\"sk-toggleable__content\"><pre>DecisionTreeClassifier()</pre></div></div></div></div></div></div></div></div></div></div>"
      ],
      "text/plain": [
       "RandomizedSearchCV(cv=5, estimator=DecisionTreeClassifier(),\n",
       "                   param_distributions={'criterion': ['gini', 'entropy'],\n",
       "                                        'max_depth': [2, 3, 4, 5, 6],\n",
       "                                        'min_samples_split': [6, 7, 8, 9, 10]},\n",
       "                   scoring='f1')"
      ]
     },
     "execution_count": 49,
     "metadata": {},
     "output_type": "execute_result"
    }
   ],
   "source": [
    "rscv1.fit(xtrain,ytrain)"
   ]
  },
  {
   "cell_type": "code",
   "execution_count": 50,
   "metadata": {},
   "outputs": [
    {
     "data": {
      "text/plain": [
       "{'min_samples_split': 9, 'max_depth': 3, 'criterion': 'entropy'}"
      ]
     },
     "execution_count": 50,
     "metadata": {},
     "output_type": "execute_result"
    }
   ],
   "source": [
    "rscv1.best_params_"
   ]
  },
  {
   "cell_type": "code",
   "execution_count": 51,
   "metadata": {},
   "outputs": [
    {
     "data": {
      "text/plain": [
       "0.7509266601907215"
      ]
     },
     "execution_count": 51,
     "metadata": {},
     "output_type": "execute_result"
    }
   ],
   "source": [
    "rscv.best_score_"
   ]
  },
  {
   "cell_type": "code",
   "execution_count": 54,
   "metadata": {},
   "outputs": [
    {
     "data": {
      "text/html": [
       "<style>#sk-container-id-4 {color: black;background-color: white;}#sk-container-id-4 pre{padding: 0;}#sk-container-id-4 div.sk-toggleable {background-color: white;}#sk-container-id-4 label.sk-toggleable__label {cursor: pointer;display: block;width: 100%;margin-bottom: 0;padding: 0.3em;box-sizing: border-box;text-align: center;}#sk-container-id-4 label.sk-toggleable__label-arrow:before {content: \"▸\";float: left;margin-right: 0.25em;color: #696969;}#sk-container-id-4 label.sk-toggleable__label-arrow:hover:before {color: black;}#sk-container-id-4 div.sk-estimator:hover label.sk-toggleable__label-arrow:before {color: black;}#sk-container-id-4 div.sk-toggleable__content {max-height: 0;max-width: 0;overflow: hidden;text-align: left;background-color: #f0f8ff;}#sk-container-id-4 div.sk-toggleable__content pre {margin: 0.2em;color: black;border-radius: 0.25em;background-color: #f0f8ff;}#sk-container-id-4 input.sk-toggleable__control:checked~div.sk-toggleable__content {max-height: 200px;max-width: 100%;overflow: auto;}#sk-container-id-4 input.sk-toggleable__control:checked~label.sk-toggleable__label-arrow:before {content: \"▾\";}#sk-container-id-4 div.sk-estimator input.sk-toggleable__control:checked~label.sk-toggleable__label {background-color: #d4ebff;}#sk-container-id-4 div.sk-label input.sk-toggleable__control:checked~label.sk-toggleable__label {background-color: #d4ebff;}#sk-container-id-4 input.sk-hidden--visually {border: 0;clip: rect(1px 1px 1px 1px);clip: rect(1px, 1px, 1px, 1px);height: 1px;margin: -1px;overflow: hidden;padding: 0;position: absolute;width: 1px;}#sk-container-id-4 div.sk-estimator {font-family: monospace;background-color: #f0f8ff;border: 1px dotted black;border-radius: 0.25em;box-sizing: border-box;margin-bottom: 0.5em;}#sk-container-id-4 div.sk-estimator:hover {background-color: #d4ebff;}#sk-container-id-4 div.sk-parallel-item::after {content: \"\";width: 100%;border-bottom: 1px solid gray;flex-grow: 1;}#sk-container-id-4 div.sk-label:hover label.sk-toggleable__label {background-color: #d4ebff;}#sk-container-id-4 div.sk-serial::before {content: \"\";position: absolute;border-left: 1px solid gray;box-sizing: border-box;top: 0;bottom: 0;left: 50%;z-index: 0;}#sk-container-id-4 div.sk-serial {display: flex;flex-direction: column;align-items: center;background-color: white;padding-right: 0.2em;padding-left: 0.2em;position: relative;}#sk-container-id-4 div.sk-item {position: relative;z-index: 1;}#sk-container-id-4 div.sk-parallel {display: flex;align-items: stretch;justify-content: center;background-color: white;position: relative;}#sk-container-id-4 div.sk-item::before, #sk-container-id-4 div.sk-parallel-item::before {content: \"\";position: absolute;border-left: 1px solid gray;box-sizing: border-box;top: 0;bottom: 0;left: 50%;z-index: -1;}#sk-container-id-4 div.sk-parallel-item {display: flex;flex-direction: column;z-index: 1;position: relative;background-color: white;}#sk-container-id-4 div.sk-parallel-item:first-child::after {align-self: flex-end;width: 50%;}#sk-container-id-4 div.sk-parallel-item:last-child::after {align-self: flex-start;width: 50%;}#sk-container-id-4 div.sk-parallel-item:only-child::after {width: 0;}#sk-container-id-4 div.sk-dashed-wrapped {border: 1px dashed gray;margin: 0 0.4em 0.5em 0.4em;box-sizing: border-box;padding-bottom: 0.4em;background-color: white;}#sk-container-id-4 div.sk-label label {font-family: monospace;font-weight: bold;display: inline-block;line-height: 1.2em;}#sk-container-id-4 div.sk-label-container {text-align: center;}#sk-container-id-4 div.sk-container {/* jupyter's `normalize.less` sets `[hidden] { display: none; }` but bootstrap.min.css set `[hidden] { display: none !important; }` so we also need the `!important` here to be able to override the default hidden behavior on the sphinx rendered scikit-learn.org. See: https://github.com/scikit-learn/scikit-learn/issues/21755 */display: inline-block !important;position: relative;}#sk-container-id-4 div.sk-text-repr-fallback {display: none;}</style><div id=\"sk-container-id-4\" class=\"sk-top-container\"><div class=\"sk-text-repr-fallback\"><pre>DecisionTreeClassifier(criterion=&#x27;entropy&#x27;, max_depth=3, min_samples_split=9)</pre><b>In a Jupyter environment, please rerun this cell to show the HTML representation or trust the notebook. <br />On GitHub, the HTML representation is unable to render, please try loading this page with nbviewer.org.</b></div><div class=\"sk-container\" hidden><div class=\"sk-item\"><div class=\"sk-estimator sk-toggleable\"><input class=\"sk-toggleable__control sk-hidden--visually\" id=\"sk-estimator-id-8\" type=\"checkbox\" checked><label for=\"sk-estimator-id-8\" class=\"sk-toggleable__label sk-toggleable__label-arrow\">DecisionTreeClassifier</label><div class=\"sk-toggleable__content\"><pre>DecisionTreeClassifier(criterion=&#x27;entropy&#x27;, max_depth=3, min_samples_split=9)</pre></div></div></div></div></div>"
      ],
      "text/plain": [
       "DecisionTreeClassifier(criterion='entropy', max_depth=3, min_samples_split=9)"
      ]
     },
     "execution_count": 54,
     "metadata": {},
     "output_type": "execute_result"
    }
   ],
   "source": [
    "best_dtc = rscv1.best_estimator_\n",
    "best_dtc"
   ]
  },
  {
   "attachments": {},
   "cell_type": "markdown",
   "metadata": {},
   "source": [
    "SVM MODEL"
   ]
  },
  {
   "cell_type": "code",
   "execution_count": 55,
   "metadata": {},
   "outputs": [
    {
     "data": {
      "text/html": [
       "<style>#sk-container-id-5 {color: black;background-color: white;}#sk-container-id-5 pre{padding: 0;}#sk-container-id-5 div.sk-toggleable {background-color: white;}#sk-container-id-5 label.sk-toggleable__label {cursor: pointer;display: block;width: 100%;margin-bottom: 0;padding: 0.3em;box-sizing: border-box;text-align: center;}#sk-container-id-5 label.sk-toggleable__label-arrow:before {content: \"▸\";float: left;margin-right: 0.25em;color: #696969;}#sk-container-id-5 label.sk-toggleable__label-arrow:hover:before {color: black;}#sk-container-id-5 div.sk-estimator:hover label.sk-toggleable__label-arrow:before {color: black;}#sk-container-id-5 div.sk-toggleable__content {max-height: 0;max-width: 0;overflow: hidden;text-align: left;background-color: #f0f8ff;}#sk-container-id-5 div.sk-toggleable__content pre {margin: 0.2em;color: black;border-radius: 0.25em;background-color: #f0f8ff;}#sk-container-id-5 input.sk-toggleable__control:checked~div.sk-toggleable__content {max-height: 200px;max-width: 100%;overflow: auto;}#sk-container-id-5 input.sk-toggleable__control:checked~label.sk-toggleable__label-arrow:before {content: \"▾\";}#sk-container-id-5 div.sk-estimator input.sk-toggleable__control:checked~label.sk-toggleable__label {background-color: #d4ebff;}#sk-container-id-5 div.sk-label input.sk-toggleable__control:checked~label.sk-toggleable__label {background-color: #d4ebff;}#sk-container-id-5 input.sk-hidden--visually {border: 0;clip: rect(1px 1px 1px 1px);clip: rect(1px, 1px, 1px, 1px);height: 1px;margin: -1px;overflow: hidden;padding: 0;position: absolute;width: 1px;}#sk-container-id-5 div.sk-estimator {font-family: monospace;background-color: #f0f8ff;border: 1px dotted black;border-radius: 0.25em;box-sizing: border-box;margin-bottom: 0.5em;}#sk-container-id-5 div.sk-estimator:hover {background-color: #d4ebff;}#sk-container-id-5 div.sk-parallel-item::after {content: \"\";width: 100%;border-bottom: 1px solid gray;flex-grow: 1;}#sk-container-id-5 div.sk-label:hover label.sk-toggleable__label {background-color: #d4ebff;}#sk-container-id-5 div.sk-serial::before {content: \"\";position: absolute;border-left: 1px solid gray;box-sizing: border-box;top: 0;bottom: 0;left: 50%;z-index: 0;}#sk-container-id-5 div.sk-serial {display: flex;flex-direction: column;align-items: center;background-color: white;padding-right: 0.2em;padding-left: 0.2em;position: relative;}#sk-container-id-5 div.sk-item {position: relative;z-index: 1;}#sk-container-id-5 div.sk-parallel {display: flex;align-items: stretch;justify-content: center;background-color: white;position: relative;}#sk-container-id-5 div.sk-item::before, #sk-container-id-5 div.sk-parallel-item::before {content: \"\";position: absolute;border-left: 1px solid gray;box-sizing: border-box;top: 0;bottom: 0;left: 50%;z-index: -1;}#sk-container-id-5 div.sk-parallel-item {display: flex;flex-direction: column;z-index: 1;position: relative;background-color: white;}#sk-container-id-5 div.sk-parallel-item:first-child::after {align-self: flex-end;width: 50%;}#sk-container-id-5 div.sk-parallel-item:last-child::after {align-self: flex-start;width: 50%;}#sk-container-id-5 div.sk-parallel-item:only-child::after {width: 0;}#sk-container-id-5 div.sk-dashed-wrapped {border: 1px dashed gray;margin: 0 0.4em 0.5em 0.4em;box-sizing: border-box;padding-bottom: 0.4em;background-color: white;}#sk-container-id-5 div.sk-label label {font-family: monospace;font-weight: bold;display: inline-block;line-height: 1.2em;}#sk-container-id-5 div.sk-label-container {text-align: center;}#sk-container-id-5 div.sk-container {/* jupyter's `normalize.less` sets `[hidden] { display: none; }` but bootstrap.min.css set `[hidden] { display: none !important; }` so we also need the `!important` here to be able to override the default hidden behavior on the sphinx rendered scikit-learn.org. See: https://github.com/scikit-learn/scikit-learn/issues/21755 */display: inline-block !important;position: relative;}#sk-container-id-5 div.sk-text-repr-fallback {display: none;}</style><div id=\"sk-container-id-5\" class=\"sk-top-container\"><div class=\"sk-text-repr-fallback\"><pre>SVC(probability=True)</pre><b>In a Jupyter environment, please rerun this cell to show the HTML representation or trust the notebook. <br />On GitHub, the HTML representation is unable to render, please try loading this page with nbviewer.org.</b></div><div class=\"sk-container\" hidden><div class=\"sk-item\"><div class=\"sk-estimator sk-toggleable\"><input class=\"sk-toggleable__control sk-hidden--visually\" id=\"sk-estimator-id-9\" type=\"checkbox\" checked><label for=\"sk-estimator-id-9\" class=\"sk-toggleable__label sk-toggleable__label-arrow\">SVC</label><div class=\"sk-toggleable__content\"><pre>SVC(probability=True)</pre></div></div></div></div></div>"
      ],
      "text/plain": [
       "SVC(probability=True)"
      ]
     },
     "execution_count": 55,
     "metadata": {},
     "output_type": "execute_result"
    }
   ],
   "source": [
    "svm = SVC(probability=True)\n",
    "svm.fit(xtrain,ytrain)"
   ]
  },
  {
   "cell_type": "code",
   "execution_count": 56,
   "metadata": {},
   "outputs": [],
   "source": [
    "ypred_tr = svm.predict(xtrain)\n",
    "ypred_ts = svm.predict(xtest)"
   ]
  },
  {
   "cell_type": "code",
   "execution_count": 57,
   "metadata": {},
   "outputs": [
    {
     "data": {
      "text/plain": [
       "0.7953216374269005"
      ]
     },
     "execution_count": 57,
     "metadata": {},
     "output_type": "execute_result"
    }
   ],
   "source": [
    "f1_score(ytrain,ypred_tr)"
   ]
  },
  {
   "cell_type": "code",
   "execution_count": 58,
   "metadata": {},
   "outputs": [
    {
     "data": {
      "text/plain": [
       "0.7659574468085106"
      ]
     },
     "execution_count": 58,
     "metadata": {},
     "output_type": "execute_result"
    }
   ],
   "source": [
    "f1_score(ytest,ypred_ts)"
   ]
  },
  {
   "attachments": {},
   "cell_type": "markdown",
   "metadata": {},
   "source": [
    "COMBINE TOP 3 CLASSIFIERS WITH VOTING CLASSIFIER"
   ]
  },
  {
   "cell_type": "code",
   "execution_count": 59,
   "metadata": {},
   "outputs": [
    {
     "data": {
      "text/html": [
       "<style>#sk-container-id-6 {color: black;background-color: white;}#sk-container-id-6 pre{padding: 0;}#sk-container-id-6 div.sk-toggleable {background-color: white;}#sk-container-id-6 label.sk-toggleable__label {cursor: pointer;display: block;width: 100%;margin-bottom: 0;padding: 0.3em;box-sizing: border-box;text-align: center;}#sk-container-id-6 label.sk-toggleable__label-arrow:before {content: \"▸\";float: left;margin-right: 0.25em;color: #696969;}#sk-container-id-6 label.sk-toggleable__label-arrow:hover:before {color: black;}#sk-container-id-6 div.sk-estimator:hover label.sk-toggleable__label-arrow:before {color: black;}#sk-container-id-6 div.sk-toggleable__content {max-height: 0;max-width: 0;overflow: hidden;text-align: left;background-color: #f0f8ff;}#sk-container-id-6 div.sk-toggleable__content pre {margin: 0.2em;color: black;border-radius: 0.25em;background-color: #f0f8ff;}#sk-container-id-6 input.sk-toggleable__control:checked~div.sk-toggleable__content {max-height: 200px;max-width: 100%;overflow: auto;}#sk-container-id-6 input.sk-toggleable__control:checked~label.sk-toggleable__label-arrow:before {content: \"▾\";}#sk-container-id-6 div.sk-estimator input.sk-toggleable__control:checked~label.sk-toggleable__label {background-color: #d4ebff;}#sk-container-id-6 div.sk-label input.sk-toggleable__control:checked~label.sk-toggleable__label {background-color: #d4ebff;}#sk-container-id-6 input.sk-hidden--visually {border: 0;clip: rect(1px 1px 1px 1px);clip: rect(1px, 1px, 1px, 1px);height: 1px;margin: -1px;overflow: hidden;padding: 0;position: absolute;width: 1px;}#sk-container-id-6 div.sk-estimator {font-family: monospace;background-color: #f0f8ff;border: 1px dotted black;border-radius: 0.25em;box-sizing: border-box;margin-bottom: 0.5em;}#sk-container-id-6 div.sk-estimator:hover {background-color: #d4ebff;}#sk-container-id-6 div.sk-parallel-item::after {content: \"\";width: 100%;border-bottom: 1px solid gray;flex-grow: 1;}#sk-container-id-6 div.sk-label:hover label.sk-toggleable__label {background-color: #d4ebff;}#sk-container-id-6 div.sk-serial::before {content: \"\";position: absolute;border-left: 1px solid gray;box-sizing: border-box;top: 0;bottom: 0;left: 50%;z-index: 0;}#sk-container-id-6 div.sk-serial {display: flex;flex-direction: column;align-items: center;background-color: white;padding-right: 0.2em;padding-left: 0.2em;position: relative;}#sk-container-id-6 div.sk-item {position: relative;z-index: 1;}#sk-container-id-6 div.sk-parallel {display: flex;align-items: stretch;justify-content: center;background-color: white;position: relative;}#sk-container-id-6 div.sk-item::before, #sk-container-id-6 div.sk-parallel-item::before {content: \"\";position: absolute;border-left: 1px solid gray;box-sizing: border-box;top: 0;bottom: 0;left: 50%;z-index: -1;}#sk-container-id-6 div.sk-parallel-item {display: flex;flex-direction: column;z-index: 1;position: relative;background-color: white;}#sk-container-id-6 div.sk-parallel-item:first-child::after {align-self: flex-end;width: 50%;}#sk-container-id-6 div.sk-parallel-item:last-child::after {align-self: flex-start;width: 50%;}#sk-container-id-6 div.sk-parallel-item:only-child::after {width: 0;}#sk-container-id-6 div.sk-dashed-wrapped {border: 1px dashed gray;margin: 0 0.4em 0.5em 0.4em;box-sizing: border-box;padding-bottom: 0.4em;background-color: white;}#sk-container-id-6 div.sk-label label {font-family: monospace;font-weight: bold;display: inline-block;line-height: 1.2em;}#sk-container-id-6 div.sk-label-container {text-align: center;}#sk-container-id-6 div.sk-container {/* jupyter's `normalize.less` sets `[hidden] { display: none; }` but bootstrap.min.css set `[hidden] { display: none !important; }` so we also need the `!important` here to be able to override the default hidden behavior on the sphinx rendered scikit-learn.org. See: https://github.com/scikit-learn/scikit-learn/issues/21755 */display: inline-block !important;position: relative;}#sk-container-id-6 div.sk-text-repr-fallback {display: none;}</style><div id=\"sk-container-id-6\" class=\"sk-top-container\"><div class=\"sk-text-repr-fallback\"><pre>VotingClassifier(estimators=[(&#x27;lr&#x27;, LogisticRegression(C=50)),\n",
       "                             (&#x27;dtc&#x27;,\n",
       "                              DecisionTreeClassifier(criterion=&#x27;entropy&#x27;,\n",
       "                                                     max_depth=3,\n",
       "                                                     min_samples_split=9)),\n",
       "                             (&#x27;svm&#x27;, SVC(probability=True))],\n",
       "                 voting=&#x27;soft&#x27;, weights=[5, 2, 1])</pre><b>In a Jupyter environment, please rerun this cell to show the HTML representation or trust the notebook. <br />On GitHub, the HTML representation is unable to render, please try loading this page with nbviewer.org.</b></div><div class=\"sk-container\" hidden><div class=\"sk-item sk-dashed-wrapped\"><div class=\"sk-label-container\"><div class=\"sk-label sk-toggleable\"><input class=\"sk-toggleable__control sk-hidden--visually\" id=\"sk-estimator-id-10\" type=\"checkbox\" ><label for=\"sk-estimator-id-10\" class=\"sk-toggleable__label sk-toggleable__label-arrow\">VotingClassifier</label><div class=\"sk-toggleable__content\"><pre>VotingClassifier(estimators=[(&#x27;lr&#x27;, LogisticRegression(C=50)),\n",
       "                             (&#x27;dtc&#x27;,\n",
       "                              DecisionTreeClassifier(criterion=&#x27;entropy&#x27;,\n",
       "                                                     max_depth=3,\n",
       "                                                     min_samples_split=9)),\n",
       "                             (&#x27;svm&#x27;, SVC(probability=True))],\n",
       "                 voting=&#x27;soft&#x27;, weights=[5, 2, 1])</pre></div></div></div><div class=\"sk-parallel\"><div class=\"sk-parallel-item\"><div class=\"sk-item\"><div class=\"sk-label-container\"><div class=\"sk-label sk-toggleable\"><label>lr</label></div></div><div class=\"sk-serial\"><div class=\"sk-item\"><div class=\"sk-estimator sk-toggleable\"><input class=\"sk-toggleable__control sk-hidden--visually\" id=\"sk-estimator-id-11\" type=\"checkbox\" ><label for=\"sk-estimator-id-11\" class=\"sk-toggleable__label sk-toggleable__label-arrow\">LogisticRegression</label><div class=\"sk-toggleable__content\"><pre>LogisticRegression(C=50)</pre></div></div></div></div></div></div><div class=\"sk-parallel-item\"><div class=\"sk-item\"><div class=\"sk-label-container\"><div class=\"sk-label sk-toggleable\"><label>dtc</label></div></div><div class=\"sk-serial\"><div class=\"sk-item\"><div class=\"sk-estimator sk-toggleable\"><input class=\"sk-toggleable__control sk-hidden--visually\" id=\"sk-estimator-id-12\" type=\"checkbox\" ><label for=\"sk-estimator-id-12\" class=\"sk-toggleable__label sk-toggleable__label-arrow\">DecisionTreeClassifier</label><div class=\"sk-toggleable__content\"><pre>DecisionTreeClassifier(criterion=&#x27;entropy&#x27;, max_depth=3, min_samples_split=9)</pre></div></div></div></div></div></div><div class=\"sk-parallel-item\"><div class=\"sk-item\"><div class=\"sk-label-container\"><div class=\"sk-label sk-toggleable\"><label>svm</label></div></div><div class=\"sk-serial\"><div class=\"sk-item\"><div class=\"sk-estimator sk-toggleable\"><input class=\"sk-toggleable__control sk-hidden--visually\" id=\"sk-estimator-id-13\" type=\"checkbox\" ><label for=\"sk-estimator-id-13\" class=\"sk-toggleable__label sk-toggleable__label-arrow\">SVC</label><div class=\"sk-toggleable__content\"><pre>SVC(probability=True)</pre></div></div></div></div></div></div></div></div></div></div>"
      ],
      "text/plain": [
       "VotingClassifier(estimators=[('lr', LogisticRegression(C=50)),\n",
       "                             ('dtc',\n",
       "                              DecisionTreeClassifier(criterion='entropy',\n",
       "                                                     max_depth=3,\n",
       "                                                     min_samples_split=9)),\n",
       "                             ('svm', SVC(probability=True))],\n",
       "                 voting='soft', weights=[5, 2, 1])"
      ]
     },
     "execution_count": 59,
     "metadata": {},
     "output_type": "execute_result"
    }
   ],
   "source": [
    "from sklearn.ensemble import  VotingClassifier\n",
    "vc = VotingClassifier(estimators=[('lr',best_lr),('dtc',best_dtc),('svm',svm)],voting='soft',weights=[5,2,1])\n",
    "vc.fit(xtrain,ytrain)"
   ]
  },
  {
   "cell_type": "code",
   "execution_count": 60,
   "metadata": {},
   "outputs": [],
   "source": [
    "ypred_tr = vc.predict(xtrain)\n",
    "ypred_ts = vc.predict(xtest)"
   ]
  },
  {
   "cell_type": "code",
   "execution_count": 61,
   "metadata": {},
   "outputs": [
    {
     "name": "stdout",
     "output_type": "stream",
     "text": [
      "              precision    recall  f1-score   support\n",
      "\n",
      "           0       0.82      0.90      0.86       105\n",
      "           1       0.83      0.73      0.78        74\n",
      "\n",
      "    accuracy                           0.83       179\n",
      "   macro avg       0.83      0.81      0.82       179\n",
      "weighted avg       0.83      0.83      0.82       179\n",
      "\n"
     ]
    }
   ],
   "source": [
    "print(classification_report(ytest,ypred_ts))"
   ]
  },
  {
   "cell_type": "code",
   "execution_count": 62,
   "metadata": {},
   "outputs": [
    {
     "data": {
      "text/plain": [
       "<sklearn.metrics._plot.confusion_matrix.ConfusionMatrixDisplay at 0x1f345ba5e50>"
      ]
     },
     "execution_count": 62,
     "metadata": {},
     "output_type": "execute_result"
    },
    {
     "data": {
      "image/png": "[encoded data removed]",
      "text/plain": [
       "<Figure size 640x480 with 2 Axes>"
      ]
     },
     "metadata": {},
     "output_type": "display_data"
    }
   ],
   "source": [
    "cf = confusion_matrix(ytest,ypred_ts)\n",
    "cfd = ConfusionMatrixDisplay(cf,display_labels=vc.classes_)\n",
    "cfd.plot()"
   ]
  },
  {
   "attachments": {},
   "cell_type": "markdown",
   "metadata": {},
   "source": [
    "SELECT BEST LOGISTIC REGRESSION FOR FINAL MODEL"
   ]
  },
  {
   "attachments": {},
   "cell_type": "markdown",
   "metadata": {},
   "source": [
    "FIND THE ROC AUC"
   ]
  },
  {
   "cell_type": "code",
   "execution_count": 65,
   "metadata": {},
   "outputs": [
    {
     "data": {
      "text/plain": [
       "array([8.39526538e-03, 2.82246395e-02, 8.57450765e-03, 9.33334561e-03,\n",
       "       2.86595851e-02, 3.42128211e-02, 1.80400799e-02, 2.67182670e-02,\n",
       "       1.07154432e-02, 9.83404113e-01, 9.63046148e-01, 5.36379646e-05,\n",
       "       1.94134999e-02, 1.48660175e-02, 8.78811173e-01, 9.56684095e-01,\n",
       "       9.99863309e-01, 9.90730853e-01, 1.64171862e-02, 9.99947192e-01,\n",
       "       1.94392119e-02, 1.19329476e-03, 7.09016469e-02, 9.95769239e-01,\n",
       "       9.17883531e-01, 9.02742225e-01, 9.65991618e-01, 1.01989150e-02,\n",
       "       9.62618371e-01, 2.65921821e-04, 2.67595168e-03, 3.09727483e-02,\n",
       "       9.58372763e-03, 9.67119675e-01, 1.36930707e-02, 3.24114898e-02,\n",
       "       3.29971095e-04, 9.73587339e-01, 2.57382215e-02, 9.93837983e-01,\n",
       "       1.06944730e-02, 1.07154432e-02, 1.01655348e-01, 1.28099437e-02,\n",
       "       9.75874947e-01, 1.25069047e-02, 9.97672204e-01, 1.45226981e-02,\n",
       "       1.66507877e-02, 9.48134662e-01, 9.61433183e-01, 1.56003431e-02,\n",
       "       9.98742755e-01, 1.36940068e-02, 9.67677716e-01, 1.07403678e-02,\n",
       "       9.65535541e-01, 9.89444751e-01, 9.69601738e-01, 9.09801839e-01,\n",
       "       7.30677084e-03, 4.14910514e-01, 9.59025160e-01, 1.59885276e-02,\n",
       "       8.36673225e-02, 1.16194825e-02, 1.07676294e-02, 1.07204536e-02,\n",
       "       1.38512665e-02, 1.45121856e-02, 9.65495791e-01, 9.57460210e-01,\n",
       "       3.01198659e-01, 1.36940068e-02, 2.06747553e-02, 8.96893352e-01,\n",
       "       8.81320505e-01, 1.45432511e-02, 9.90786734e-01, 1.69923527e-02,\n",
       "       9.72123920e-01, 9.79472404e-01, 2.23300420e-02, 9.65089969e-01,\n",
       "       8.81474888e-01, 3.97399034e-02, 1.03210939e-02, 1.82722824e-02,\n",
       "       9.82964415e-01, 9.84671512e-01, 1.07154432e-02, 9.99535354e-01,\n",
       "       5.67141256e-02, 6.32906215e-02, 2.66836388e-02, 9.27078986e-01,\n",
       "       1.01538742e-02, 1.74812162e-02, 3.13231273e-02, 9.59977305e-01,\n",
       "       1.49039576e-02, 7.16938017e-03, 1.59305314e-02, 9.99920157e-01,\n",
       "       6.12513441e-02, 3.63878915e-02, 3.10352576e-03, 9.64406134e-01,\n",
       "       3.83344885e-04, 8.42349280e-01, 9.07982684e-01, 1.09655687e-02,\n",
       "       6.86610120e-03, 9.99869070e-01, 7.79110867e-02, 1.52431579e-02,\n",
       "       1.50618797e-02, 1.39855552e-02, 7.34958125e-02, 1.45112151e-02,\n",
       "       8.12380419e-02, 9.11669617e-01, 9.70319317e-01, 3.75545015e-01,\n",
       "       2.71601513e-02, 8.96442520e-01, 9.79280510e-01, 4.51518104e-03,\n",
       "       4.55098904e-02, 1.28458341e-02, 2.72892304e-02, 2.51579687e-02,\n",
       "       9.12538712e-02, 9.15433040e-01, 5.97135074e-03, 4.04463500e-03,\n",
       "       9.82121198e-01, 9.38282551e-01, 9.59939272e-01, 5.90568120e-01,\n",
       "       3.39800434e-02, 2.48033586e-02, 9.57554957e-01, 5.16513477e-02,\n",
       "       1.52381796e-02, 9.54340523e-01, 7.97342847e-02, 8.74552132e-01,\n",
       "       7.93495177e-02, 2.45693462e-02, 1.36940068e-02, 1.82561196e-02,\n",
       "       2.05296126e-02, 6.46744199e-02, 2.63655413e-02, 4.76168711e-03,\n",
       "       4.26404505e-02, 9.98420725e-01, 9.61717480e-01, 1.26274288e-02,\n",
       "       7.44779460e-03, 1.22481764e-01, 1.59713064e-02, 4.06752913e-01,\n",
       "       8.80054402e-01, 1.36969726e-02, 1.07154432e-02, 9.74225324e-01,\n",
       "       1.19096806e-02, 9.63988436e-01, 6.67733080e-01, 9.95536682e-01,\n",
       "       8.84714911e-01, 1.95016704e-04, 3.49333167e-02, 1.03107570e-02,\n",
       "       1.82722824e-02, 9.69281623e-01, 8.58038582e-01, 6.05647959e-03,\n",
       "       5.93833359e-01, 7.78777071e-02, 9.76455514e-01, 8.84339672e-02,\n",
       "       3.48977082e-03, 9.87411694e-02, 9.64398635e-01, 1.66346662e-02,\n",
       "       1.09508620e-02, 1.31901036e-02, 6.33839074e-02, 9.92354312e-01,\n",
       "       2.06699959e-01, 8.86464465e-01, 8.94695198e-01, 4.87625926e-02,\n",
       "       1.39056213e-03, 9.88648017e-01, 9.11973105e-01, 9.87399982e-01,\n",
       "       1.60161791e-02, 9.99516605e-01, 2.57026271e-03, 9.95756671e-01,\n",
       "       9.87888240e-01, 6.90649118e-03, 1.31807484e-02, 2.19362420e-02,\n",
       "       2.53438398e-02, 1.25069047e-02, 7.24731893e-02, 4.55341836e-02,\n",
       "       9.93951869e-01, 9.98707949e-01, 9.92918208e-01, 9.48837545e-01,\n",
       "       9.98090567e-01, 2.82246395e-02, 1.07154432e-02, 2.52007949e-02,\n",
       "       9.49088162e-01, 9.94872459e-01, 1.36606345e-02, 9.94700885e-01,\n",
       "       8.66058367e-03, 9.96131384e-01, 9.64397666e-01, 9.98717799e-01,\n",
       "       2.49331196e-03, 9.69536552e-01, 1.01798828e-02, 1.60161791e-02,\n",
       "       8.61429503e-05, 9.96917350e-01, 9.70411361e-01, 5.20041799e-03,\n",
       "       9.76806587e-01, 9.98406526e-01, 2.45547696e-02, 1.07154432e-02,\n",
       "       5.14770378e-02, 9.37246154e-01, 5.60624655e-03, 8.52625251e-01,\n",
       "       1.06960012e-02, 8.57368957e-03, 6.22155970e-03, 9.89213581e-01,\n",
       "       2.37831100e-01, 9.98740926e-01, 9.08232578e-01, 9.45929942e-01,\n",
       "       2.45920876e-02, 9.78125907e-01, 3.13173546e-02, 1.62274520e-02,\n",
       "       3.56528060e-03, 7.72127161e-03, 1.07154432e-02, 2.48308167e-03,\n",
       "       1.19699739e-02, 9.45098024e-01, 1.36640648e-02, 4.55480610e-03,\n",
       "       3.05578178e-01, 1.72280298e-02, 2.10342959e-02, 9.49817477e-03,\n",
       "       9.45333564e-01, 3.29831595e-02, 4.98497147e-04, 9.07618514e-01,\n",
       "       6.22395406e-01, 9.70367571e-01, 3.19394813e-02, 1.15853134e-02,\n",
       "       8.08978644e-03, 1.55749142e-02, 7.66334460e-01, 1.45333770e-02,\n",
       "       1.59887006e-02, 1.36940068e-02, 6.55452837e-03, 9.85972743e-01,\n",
       "       8.41807090e-04, 3.30669260e-02, 8.94441345e-01, 8.51195671e-03,\n",
       "       1.59885276e-02, 9.92432847e-01, 9.64398635e-01, 9.98565147e-01,\n",
       "       9.60325788e-03, 3.29831595e-02, 3.25544899e-02, 9.59996753e-01,\n",
       "       9.99756045e-01, 1.82601025e-02, 9.99024059e-01, 9.85997040e-01,\n",
       "       1.52403381e-02, 9.43302689e-01, 6.44768796e-02, 9.99172664e-01,\n",
       "       1.59885276e-02, 1.11305614e-02, 4.63011595e-03, 1.41486148e-02,\n",
       "       9.81470488e-01, 9.70976793e-01, 5.24921065e-01, 9.93409419e-01,\n",
       "       1.11609587e-02, 8.75927624e-01, 8.80023525e-01, 9.80437864e-01,\n",
       "       4.29513914e-04, 2.82246395e-02, 1.93808419e-02, 1.59887006e-02,\n",
       "       7.33598319e-02, 9.76455514e-01, 8.66058367e-03, 1.68008697e-02,\n",
       "       1.46278605e-02, 1.59633194e-02, 6.67733080e-01, 1.55029107e-01,\n",
       "       1.07204536e-02, 9.41075104e-01, 1.56262737e-02, 9.71982274e-01,\n",
       "       1.28785807e-02, 2.01653656e-03, 1.57973273e-02, 1.92811949e-03,\n",
       "       1.01825254e-02, 9.98974200e-01, 9.23812062e-01, 1.06944730e-02,\n",
       "       9.76438428e-01, 1.37707098e-02, 1.45121856e-02, 9.67677486e-01,\n",
       "       1.45790995e-02, 9.76951378e-01, 8.36034949e-03, 9.57238618e-01,\n",
       "       1.51701571e-01, 7.52695664e-02, 1.23638929e-02, 4.67112661e-02,\n",
       "       9.75861689e-01, 4.23462847e-02, 7.69725956e-03, 1.90247402e-02,\n",
       "       1.06965015e-02, 1.45372611e-02, 9.89220853e-01, 9.04108678e-01,\n",
       "       8.85444865e-01, 9.78937947e-01, 9.61768310e-01, 1.32435254e-02,\n",
       "       9.78809699e-01, 9.72851514e-01, 1.52431579e-02, 9.94388927e-01,\n",
       "       1.45790995e-02, 8.76850402e-01, 9.66644390e-01, 3.84157767e-02,\n",
       "       9.64508967e-01, 2.48975377e-04, 9.36506976e-01, 1.11783471e-02,\n",
       "       9.79494377e-01, 1.07204536e-02, 8.61904955e-02, 9.60792457e-03,\n",
       "       4.52336986e-03, 8.30599539e-03, 9.72406707e-03, 1.07204536e-02,\n",
       "       1.06502780e-02, 9.91997535e-01, 1.17640771e-02, 1.74246262e-02,\n",
       "       7.03105711e-02, 5.03527045e-04, 8.92360481e-01, 1.07204536e-02,\n",
       "       1.45937929e-02, 1.59885276e-02, 6.38919920e-02, 9.96820885e-01,\n",
       "       1.82722824e-02, 5.98263010e-02, 3.24114898e-02, 1.52481370e-02,\n",
       "       9.65831471e-01, 4.97474891e-02, 9.93951869e-01, 1.59887006e-02,\n",
       "       7.63026803e-03, 9.92448638e-01, 9.95398489e-01, 6.77913850e-03,\n",
       "       1.07676294e-02, 6.23021974e-02, 2.58289191e-02, 2.09831881e-02,\n",
       "       8.74558600e-01, 6.17886421e-02, 1.19054920e-02, 9.51766362e-01,\n",
       "       1.80412469e-03, 3.01781333e-03, 1.36933815e-02, 1.74588307e-02,\n",
       "       7.38297504e-02, 9.15750865e-01, 9.99805748e-01, 8.11020085e-03,\n",
       "       1.88511596e-02, 7.77930959e-02, 9.96218528e-03, 3.89752112e-02,\n",
       "       9.72123920e-01, 9.53004760e-01, 4.88579849e-02, 9.79337432e-01,\n",
       "       3.33321144e-01, 8.13300592e-03, 9.96048053e-01, 9.96836244e-01,\n",
       "       1.86465677e-02, 8.92054575e-01, 2.74071987e-02, 3.20284846e-04,\n",
       "       9.96989463e-01, 1.07115189e-02, 9.87719049e-01, 8.57450765e-03,\n",
       "       3.97246087e-03, 4.73428264e-02, 3.31085756e-03, 7.27413409e-01,\n",
       "       8.58228630e-01, 7.87532267e-03, 3.32443516e-02, 2.23072298e-02,\n",
       "       9.79462154e-01, 9.60792457e-03, 6.13967781e-02, 8.81395602e-01,\n",
       "       1.52725439e-02, 6.67733080e-01, 1.19096806e-02, 9.57098623e-01,\n",
       "       9.36686760e-03, 9.85497485e-01, 9.16162789e-01, 9.94278536e-01,\n",
       "       9.97577311e-01, 9.45335855e-01, 2.04309286e-02, 4.47568436e-04,\n",
       "       3.82293901e-03, 9.97310557e-01, 8.41009179e-01, 7.85283215e-02,\n",
       "       8.65003593e-01, 4.20117110e-02, 9.74389482e-01, 7.59024934e-03,\n",
       "       5.15447819e-03, 7.71608445e-02, 7.33722476e-02, 6.95001952e-01,\n",
       "       3.76511368e-03, 6.89279778e-02, 7.65988798e-02, 1.25371230e-02,\n",
       "       9.99479236e-01, 1.19093928e-02, 2.18184327e-02, 9.99024059e-01,\n",
       "       1.77563399e-02, 2.24408009e-03, 2.39878900e-02, 1.24697909e-02,\n",
       "       9.66977562e-01, 7.93817033e-02, 9.50909659e-04, 1.45790995e-02,\n",
       "       7.02034999e-01, 8.77837417e-01, 2.30378161e-02, 1.60305028e-02,\n",
       "       9.92197890e-01, 1.45432511e-02, 4.81517779e-03, 9.35886965e-01,\n",
       "       9.29152090e-01, 2.22817522e-02, 9.12423157e-02, 4.01308866e-02,\n",
       "       9.67873550e-01, 9.93859233e-01, 1.97699973e-02, 1.28639068e-02,\n",
       "       6.61279034e-03, 1.07042118e-02, 1.07154432e-02, 1.45666205e-02,\n",
       "       9.64406134e-01, 9.99779303e-01, 9.98864145e-01, 9.77735038e-01,\n",
       "       1.91013342e-02, 9.65505612e-01, 1.07154432e-02, 9.71059066e-01,\n",
       "       8.61429503e-05, 2.29972791e-02, 9.29115173e-01, 9.54871928e-01,\n",
       "       8.21260646e-02, 5.68951009e-02, 1.07154432e-02, 2.86694621e-03,\n",
       "       9.24751744e-01, 2.53284712e-02, 4.91464312e-03, 9.73011366e-01,\n",
       "       9.54105686e-01, 9.93385646e-01, 2.01389543e-04, 9.57325659e-01,\n",
       "       8.68909882e-01, 2.26757005e-02, 5.93142202e-02, 8.61429503e-05,\n",
       "       1.59887006e-02, 5.82823925e-02, 9.82226342e-01, 1.19371538e-02,\n",
       "       9.22943988e-02, 9.69474431e-01, 9.32337908e-01, 5.93833359e-01,\n",
       "       1.07204536e-02, 1.07204536e-02, 2.65211565e-02, 1.90369438e-02,\n",
       "       9.73128906e-01, 9.67181069e-01, 9.00083418e-01, 9.81116045e-01,\n",
       "       8.15256492e-02, 6.31996099e-03, 8.95852464e-03, 1.07121946e-02,\n",
       "       4.07098422e-02, 7.18680111e-03, 5.54596264e-02, 9.56139093e-01,\n",
       "       9.75113347e-01, 1.07154432e-02, 9.99756325e-01, 1.59963013e-02,\n",
       "       3.38376542e-04, 9.73557609e-01, 9.64397910e-01, 9.64398635e-01,\n",
       "       2.49022615e-03, 7.93394857e-02, 9.64398635e-01, 9.64398635e-01,\n",
       "       1.07676294e-02, 2.63655413e-02, 1.21581984e-01, 1.13695387e-02,\n",
       "       9.56702657e-01, 9.32631367e-01, 2.22094398e-02, 8.85245675e-01,\n",
       "       2.19362420e-02, 2.30378161e-02, 8.89607729e-01, 3.28765806e-03,\n",
       "       2.99932202e-01, 1.90887479e-02, 5.48977011e-02, 5.98782131e-03,\n",
       "       9.67688812e-01, 9.94659696e-01, 2.40279343e-02, 9.97254286e-01,\n",
       "       5.06661290e-02, 9.14348033e-02, 9.75913678e-01, 5.32002292e-02,\n",
       "       1.41830359e-02, 1.67008052e-02, 9.05718641e-01, 9.99773924e-01,\n",
       "       9.60382333e-01, 9.99825147e-01, 9.97168913e-01, 2.68829088e-02,\n",
       "       8.08653775e-03, 9.74655400e-01, 5.06661290e-02, 9.83616422e-01,\n",
       "       6.59803354e-03, 9.03535138e-01, 7.63026803e-03, 8.90770212e-01,\n",
       "       9.98277891e-01, 9.82022415e-01, 8.61429503e-05, 9.65247002e-01,\n",
       "       1.15997455e-02, 7.13734765e-02, 1.19150283e-02, 9.45744097e-02,\n",
       "       7.77256185e-02, 3.07535114e-03, 1.07154432e-02, 6.99103152e-03,\n",
       "       9.90220374e-01, 9.96273708e-01, 1.59887006e-02, 5.25831016e-03,\n",
       "       1.45801782e-02, 7.65295981e-02, 4.90487534e-02, 1.74577650e-02,\n",
       "       1.11963201e-02, 9.66639364e-01, 1.07204536e-02, 9.90188554e-01,\n",
       "       1.59633194e-02, 1.82495001e-02, 7.33722476e-02, 9.96156364e-01,\n",
       "       1.26143377e-02, 9.75113347e-01, 1.93428558e-05, 9.61428958e-01,\n",
       "       9.43281955e-01, 9.69056958e-01, 2.36203568e-02, 9.97434600e-01,\n",
       "       2.35467659e-02, 1.67058452e-02, 4.29747869e-03, 9.80170717e-01,\n",
       "       3.31069585e-03, 9.99093284e-01, 9.63771024e-01, 1.45073342e-02,\n",
       "       1.67058452e-02, 2.36928440e-02, 1.10590936e-03, 6.75962837e-03,\n",
       "       2.43059938e-02, 6.28463825e-03, 2.52054873e-02, 9.87139912e-01,\n",
       "       8.85102370e-01, 9.91837259e-01, 8.11810475e-02, 1.36940068e-02,\n",
       "       9.74678692e-01, 1.14159155e-02, 9.65232962e-01, 1.07154432e-02,\n",
       "       1.36940068e-02, 3.43779986e-03, 5.26033343e-02, 3.20773159e-02,\n",
       "       2.85451979e-02, 9.07463137e-03, 1.19699739e-02, 1.52162826e-02,\n",
       "       2.63655413e-02, 8.58677053e-03, 6.90568817e-02, 8.62961971e-03,\n",
       "       1.25997827e-02, 6.75019651e-03, 9.99591391e-01, 4.58529952e-02,\n",
       "       1.67122795e-02, 1.07204536e-02, 9.54340523e-01, 9.99182852e-01,\n",
       "       1.08735237e-02, 1.19699739e-02, 1.07204536e-02, 7.18680111e-03,\n",
       "       7.08398599e-03, 9.95730757e-01, 4.72394721e-02, 9.66532287e-01,\n",
       "       4.16372428e-02, 2.70532843e-03, 9.99960692e-01, 2.71221132e-02])"
      ]
     },
     "execution_count": 65,
     "metadata": {},
     "output_type": "execute_result"
    }
   ],
   "source": [
    "yprob_tr = best_lr.predict_proba(xtrain)[:,-1]\n",
    "yprob_tr"
   ]
  },
  {
   "cell_type": "code",
   "execution_count": 67,
   "metadata": {},
   "outputs": [
    {
     "data": {
      "text/plain": [
       "array([1.99577143e-02, 5.62572799e-02, 3.37038402e-02, 9.85385666e-01,\n",
       "       9.99305606e-01, 9.67183756e-01, 8.22648008e-01, 5.55378352e-04,\n",
       "       9.23348391e-01, 9.95999909e-01, 4.90749715e-01, 5.14818976e-03,\n",
       "       3.24114898e-02, 2.97434451e-02, 3.89554589e-02, 9.97644378e-01,\n",
       "       2.22879660e-01, 8.22703279e-01, 7.65732393e-02, 7.10619905e-02,\n",
       "       2.47440969e-02, 1.70330618e-01, 8.16474081e-01, 3.39069686e-02,\n",
       "       1.86948735e-02, 1.80931907e-04, 2.00156778e-01, 5.68956255e-02,\n",
       "       2.91541431e-04, 7.14006656e-01, 3.63873011e-02, 8.36194745e-01,\n",
       "       3.97297388e-01, 7.59885981e-01, 3.93088507e-02, 2.68986843e-02,\n",
       "       5.39786170e-01, 8.22648008e-01, 9.25545143e-01, 1.81240068e-02,\n",
       "       1.07808014e-02, 1.15158180e-02, 1.81371387e-02, 2.62997420e-02,\n",
       "       1.20532769e-02, 2.52746340e-04, 3.64313578e-02, 2.69035336e-02,\n",
       "       2.46466427e-02, 1.75403031e-01, 9.91540273e-01, 9.61756385e-01,\n",
       "       2.23320215e-05, 9.94710323e-01, 1.42223124e-03, 9.96190583e-01,\n",
       "       5.21809164e-02, 4.34834766e-01, 8.86766940e-01, 9.04716768e-01,\n",
       "       3.11859557e-02, 9.95724332e-01, 9.05691333e-01, 2.48038001e-01,\n",
       "       2.62997420e-02, 4.47515324e-01, 2.26232949e-02, 1.67600388e-02,\n",
       "       4.48941424e-02, 9.93337566e-01, 8.99470535e-01, 9.99009352e-01,\n",
       "       7.23476091e-01, 9.91178297e-01, 2.67323862e-02, 6.90576555e-03,\n",
       "       7.91760540e-01, 9.97669761e-01, 8.55854503e-01, 2.92957608e-01,\n",
       "       9.43436004e-04, 9.92683781e-01, 9.93552656e-01, 2.62982108e-02,\n",
       "       1.94542275e-01, 2.30561884e-02, 9.97580241e-01, 9.97317760e-01,\n",
       "       1.16251982e-01, 1.80691108e-02, 2.85914267e-01, 2.27145066e-02,\n",
       "       7.72598665e-02, 2.62971940e-02, 1.81240068e-02, 1.81204656e-02,\n",
       "       1.50742872e-01, 4.75649062e-03, 9.73836845e-01, 1.95948534e-02,\n",
       "       1.84915439e-02, 1.04296753e-02, 9.99926905e-01, 8.23118138e-03,\n",
       "       1.49157184e-02, 1.58151092e-02, 7.18353561e-01, 2.07969036e-01,\n",
       "       1.56176808e-02, 4.63354008e-01, 9.93358299e-01, 3.23313611e-02,\n",
       "       9.99966474e-01, 3.72660806e-01, 7.40892797e-01, 1.40015314e-02,\n",
       "       6.94767533e-02, 2.97318349e-01, 9.25795025e-01, 3.39567115e-03,\n",
       "       4.06214561e-02, 9.97134055e-01, 9.46377770e-01, 3.11805546e-01,\n",
       "       2.28267465e-02, 2.70266206e-01, 9.87342976e-01, 5.56567799e-01,\n",
       "       8.14272798e-01, 3.12257277e-02, 8.22738166e-01, 1.99577143e-02,\n",
       "       6.71345239e-02, 9.93952599e-01, 2.46904143e-01, 9.24969743e-01,\n",
       "       9.94824201e-01, 1.67521572e-02, 6.01609144e-03, 7.55061040e-01,\n",
       "       3.12812446e-02, 6.65392920e-01, 7.11357554e-02, 2.66081559e-02,\n",
       "       1.37905113e-01, 8.30083776e-01, 6.13164742e-02, 3.67170195e-03,\n",
       "       9.98386718e-01, 5.57196492e-03, 3.49325669e-02, 2.46979617e-02,\n",
       "       3.92629537e-02, 5.71205806e-01, 1.81371387e-02, 1.80521430e-02,\n",
       "       6.67733080e-01, 8.22674179e-01, 8.35606672e-01, 5.97523913e-01,\n",
       "       4.88928612e-02, 2.48596085e-01, 3.09426637e-02, 8.98556570e-01,\n",
       "       2.63866519e-02, 9.82615736e-02, 1.01224834e-01, 9.93353958e-01,\n",
       "       2.88868754e-02, 1.04259730e-02, 7.55859204e-01, 9.48446037e-01,\n",
       "       3.72772652e-01, 2.48462378e-01, 4.22452563e-02, 3.46934632e-02,\n",
       "       9.47974979e-01, 9.68914039e-01, 9.84711634e-01])"
      ]
     },
     "execution_count": 67,
     "metadata": {},
     "output_type": "execute_result"
    }
   ],
   "source": [
    "yprob_ts = best_lr.predict_proba(xtest)[:,-1]\n",
    "yprob_ts"
   ]
  },
  {
   "cell_type": "code",
   "execution_count": 68,
   "metadata": {},
   "outputs": [
    {
     "data": {
      "text/plain": [
       "0.998134328358209"
      ]
     },
     "execution_count": 68,
     "metadata": {},
     "output_type": "execute_result"
    }
   ],
   "source": [
    "# Calculate ROC AUC\n",
    "from sklearn.metrics import roc_auc_score\n",
    "tr_roc = roc_auc_score(ytrain,yprob_tr)\n",
    "tr_roc"
   ]
  },
  {
   "cell_type": "code",
   "execution_count": 70,
   "metadata": {},
   "outputs": [
    {
     "data": {
      "text/plain": [
       "0.9154440154440155"
      ]
     },
     "execution_count": 70,
     "metadata": {},
     "output_type": "execute_result"
    }
   ],
   "source": [
    "ts_roc = roc_auc_score(ytest,yprob_ts)\n",
    "ts_roc"
   ]
  },
  {
   "cell_type": "code",
   "execution_count": 71,
   "metadata": {},
   "outputs": [
    {
     "data": {
      "text/plain": [
       "array([0.85830212, 0.8534124 , 0.87937248, 0.84767861, 0.89772727])"
      ]
     },
     "execution_count": 71,
     "metadata": {},
     "output_type": "execute_result"
    }
   ],
   "source": [
    "scores = cross_val_score(best_lr,xtrain,ytrain,cv=5,scoring='roc_auc')\n",
    "scores"
   ]
  },
  {
   "cell_type": "code",
   "execution_count": 72,
   "metadata": {},
   "outputs": [
    {
     "data": {
      "text/plain": [
       "0.8672985776070364"
      ]
     },
     "execution_count": 72,
     "metadata": {},
     "output_type": "execute_result"
    }
   ],
   "source": [
    "scores.mean()"
   ]
  },
  {
   "attachments": {},
   "cell_type": "markdown",
   "metadata": {},
   "source": [
    "Plot the ROC curve"
   ]
  },
  {
   "cell_type": "code",
   "execution_count": 73,
   "metadata": {},
   "outputs": [
    {
     "data": {
      "text/plain": [
       "<sklearn.metrics._plot.roc_curve.RocCurveDisplay at 0x1f345d03490>"
      ]
     },
     "execution_count": 73,
     "metadata": {},
     "output_type": "execute_result"
    },
    {
     "data": {
      "image/png": "[encoded data removed]",
      "text/plain": [
       "<Figure size 640x480 with 1 Axes>"
      ]
     },
     "metadata": {},
     "output_type": "display_data"
    }
   ],
   "source": [
    "from sklearn.metrics import RocCurveDisplay\n",
    "RocCurveDisplay.from_estimator(best_lr,xtest,ytest)"
   ]
  },
  {
   "attachments": {},
   "cell_type": "markdown",
   "metadata": {},
   "source": [
    "Testing CSV Predictions"
   ]
  },
  {
   "cell_type": "code",
   "execution_count": 75,
   "metadata": {},
   "outputs": [],
   "source": [
    "df2 = pd.read_csv('C:/Datasets/test_titanic.csv')"
   ]
  },
  {
   "cell_type": "code",
   "execution_count": 76,
   "metadata": {},
   "outputs": [
    {
     "data": {
      "text/html": [
       "<div>\n",
       "<style scoped>\n",
       "    .dataframe tbody tr th:only-of-type {\n",
       "        vertical-align: middle;\n",
       "    }\n",
       "\n",
       "    .dataframe tbody tr th {\n",
       "        vertical-align: top;\n",
       "    }\n",
       "\n",
       "    .dataframe thead th {\n",
       "        text-align: right;\n",
       "    }\n",
       "</style>\n",
       "<table border=\"1\" class=\"dataframe\">\n",
       "  <thead>\n",
       "    <tr style=\"text-align: right;\">\n",
       "      <th></th>\n",
       "      <th>PassengerId</th>\n",
       "      <th>Pclass</th>\n",
       "      <th>Name</th>\n",
       "      <th>Sex</th>\n",
       "      <th>Age</th>\n",
       "      <th>SibSp</th>\n",
       "      <th>Parch</th>\n",
       "      <th>Ticket</th>\n",
       "      <th>Fare</th>\n",
       "      <th>Cabin</th>\n",
       "      <th>Embarked</th>\n",
       "    </tr>\n",
       "  </thead>\n",
       "  <tbody>\n",
       "    <tr>\n",
       "      <th>0</th>\n",
       "      <td>892</td>\n",
       "      <td>3</td>\n",
       "      <td>Kelly, Mr. James</td>\n",
       "      <td>male</td>\n",
       "      <td>34.5</td>\n",
       "      <td>0</td>\n",
       "      <td>0</td>\n",
       "      <td>330911</td>\n",
       "      <td>7.8292</td>\n",
       "      <td>NaN</td>\n",
       "      <td>Q</td>\n",
       "    </tr>\n",
       "    <tr>\n",
       "      <th>1</th>\n",
       "      <td>893</td>\n",
       "      <td>3</td>\n",
       "      <td>Wilkes, Mrs. James (Ellen Needs)</td>\n",
       "      <td>female</td>\n",
       "      <td>47.0</td>\n",
       "      <td>1</td>\n",
       "      <td>0</td>\n",
       "      <td>363272</td>\n",
       "      <td>7.0000</td>\n",
       "      <td>NaN</td>\n",
       "      <td>S</td>\n",
       "    </tr>\n",
       "    <tr>\n",
       "      <th>2</th>\n",
       "      <td>894</td>\n",
       "      <td>2</td>\n",
       "      <td>Myles, Mr. Thomas Francis</td>\n",
       "      <td>male</td>\n",
       "      <td>62.0</td>\n",
       "      <td>0</td>\n",
       "      <td>0</td>\n",
       "      <td>240276</td>\n",
       "      <td>9.6875</td>\n",
       "      <td>NaN</td>\n",
       "      <td>Q</td>\n",
       "    </tr>\n",
       "    <tr>\n",
       "      <th>3</th>\n",
       "      <td>895</td>\n",
       "      <td>3</td>\n",
       "      <td>Wirz, Mr. Albert</td>\n",
       "      <td>male</td>\n",
       "      <td>27.0</td>\n",
       "      <td>0</td>\n",
       "      <td>0</td>\n",
       "      <td>315154</td>\n",
       "      <td>8.6625</td>\n",
       "      <td>NaN</td>\n",
       "      <td>S</td>\n",
       "    </tr>\n",
       "    <tr>\n",
       "      <th>4</th>\n",
       "      <td>896</td>\n",
       "      <td>3</td>\n",
       "      <td>Hirvonen, Mrs. Alexander (Helga E Lindqvist)</td>\n",
       "      <td>female</td>\n",
       "      <td>22.0</td>\n",
       "      <td>1</td>\n",
       "      <td>1</td>\n",
       "      <td>3101298</td>\n",
       "      <td>12.2875</td>\n",
       "      <td>NaN</td>\n",
       "      <td>S</td>\n",
       "    </tr>\n",
       "  </tbody>\n",
       "</table>\n",
       "</div>"
      ],
      "text/plain": [
       "   PassengerId  Pclass                                          Name     Sex  \\\n",
       "0          892       3                              Kelly, Mr. James    male   \n",
       "1          893       3              Wilkes, Mrs. James (Ellen Needs)  female   \n",
       "2          894       2                     Myles, Mr. Thomas Francis    male   \n",
       "3          895       3                              Wirz, Mr. Albert    male   \n",
       "4          896       3  Hirvonen, Mrs. Alexander (Helga E Lindqvist)  female   \n",
       "\n",
       "    Age  SibSp  Parch   Ticket     Fare Cabin Embarked  \n",
       "0  34.5      0      0   330911   7.8292   NaN        Q  \n",
       "1  47.0      1      0   363272   7.0000   NaN        S  \n",
       "2  62.0      0      0   240276   9.6875   NaN        Q  \n",
       "3  27.0      0      0   315154   8.6625   NaN        S  \n",
       "4  22.0      1      1  3101298  12.2875   NaN        S  "
      ]
     },
     "execution_count": 76,
     "metadata": {},
     "output_type": "execute_result"
    }
   ],
   "source": [
    "df2.head()"
   ]
  },
  {
   "cell_type": "code",
   "execution_count": 77,
   "metadata": {},
   "outputs": [
    {
     "name": "stdout",
     "output_type": "stream",
     "text": [
      "<class 'pandas.core.frame.DataFrame'>\n",
      "RangeIndex: 418 entries, 0 to 417\n",
      "Data columns (total 11 columns):\n",
      " #   Column       Non-Null Count  Dtype  \n",
      "---  ------       --------------  -----  \n",
      " 0   PassengerId  418 non-null    int64  \n",
      " 1   Pclass       418 non-null    int64  \n",
      " 2   Name         418 non-null    object \n",
      " 3   Sex          418 non-null    object \n",
      " 4   Age          332 non-null    float64\n",
      " 5   SibSp        418 non-null    int64  \n",
      " 6   Parch        418 non-null    int64  \n",
      " 7   Ticket       418 non-null    object \n",
      " 8   Fare         417 non-null    float64\n",
      " 9   Cabin        91 non-null     object \n",
      " 10  Embarked     418 non-null    object \n",
      "dtypes: float64(2), int64(4), object(5)\n",
      "memory usage: 36.1+ KB\n"
     ]
    }
   ],
   "source": [
    "df2.info()"
   ]
  },
  {
   "cell_type": "code",
   "execution_count": 79,
   "metadata": {},
   "outputs": [
    {
     "data": {
      "text/plain": [
       "array([[ 0.82737724,  0.39488658, -0.4745452 , ...,  0.        ,\n",
       "         1.        ,  0.        ],\n",
       "       [ 0.82737724,  1.35550962,  0.43279337, ...,  0.        ,\n",
       "         0.        ,  1.        ],\n",
       "       [-0.36936484,  2.50825727, -0.4745452 , ...,  0.        ,\n",
       "         1.        ,  0.        ],\n",
       "       ...,\n",
       "       [ 0.82737724,  0.70228595, -0.4745452 , ...,  0.        ,\n",
       "         0.        ,  1.        ],\n",
       "       [ 0.82737724, -0.1046374 , -0.4745452 , ...,  0.        ,\n",
       "         0.        ,  1.        ],\n",
       "       [ 0.82737724, -0.1046374 ,  0.43279337, ...,  1.        ,\n",
       "         0.        ,  0.        ]])"
      ]
     },
     "execution_count": 79,
     "metadata": {},
     "output_type": "execute_result"
    }
   ],
   "source": [
    "xnew = pre.transform(df2).toarray()\n",
    "xnew"
   ]
  },
  {
   "cell_type": "code",
   "execution_count": 80,
   "metadata": {},
   "outputs": [
    {
     "data": {
      "text/html": [
       "<div>\n",
       "<style scoped>\n",
       "    .dataframe tbody tr th:only-of-type {\n",
       "        vertical-align: middle;\n",
       "    }\n",
       "\n",
       "    .dataframe tbody tr th {\n",
       "        vertical-align: top;\n",
       "    }\n",
       "\n",
       "    .dataframe thead th {\n",
       "        text-align: right;\n",
       "    }\n",
       "</style>\n",
       "<table border=\"1\" class=\"dataframe\">\n",
       "  <thead>\n",
       "    <tr style=\"text-align: right;\">\n",
       "      <th></th>\n",
       "      <th>num__Pclass</th>\n",
       "      <th>num__Age</th>\n",
       "      <th>num__SibSp</th>\n",
       "      <th>num__Parch</th>\n",
       "      <th>num__Fare</th>\n",
       "      <th>cat1__Cabin_A10</th>\n",
       "      <th>cat1__Cabin_A14</th>\n",
       "      <th>cat1__Cabin_A16</th>\n",
       "      <th>cat1__Cabin_A19</th>\n",
       "      <th>cat1__Cabin_A20</th>\n",
       "      <th>...</th>\n",
       "      <th>cat2__Cabin_F G73</th>\n",
       "      <th>cat2__Cabin_F2</th>\n",
       "      <th>cat2__Cabin_F33</th>\n",
       "      <th>cat2__Cabin_F38</th>\n",
       "      <th>cat2__Cabin_F4</th>\n",
       "      <th>cat2__Cabin_G6</th>\n",
       "      <th>cat2__Cabin_T</th>\n",
       "      <th>cat2__Embarked_C</th>\n",
       "      <th>cat2__Embarked_Q</th>\n",
       "      <th>cat2__Embarked_S</th>\n",
       "    </tr>\n",
       "  </thead>\n",
       "  <tbody>\n",
       "    <tr>\n",
       "      <th>0</th>\n",
       "      <td>0.827377</td>\n",
       "      <td>0.394887</td>\n",
       "      <td>-0.474545</td>\n",
       "      <td>-0.473674</td>\n",
       "      <td>-0.490783</td>\n",
       "      <td>0.0</td>\n",
       "      <td>0.0</td>\n",
       "      <td>0.0</td>\n",
       "      <td>0.0</td>\n",
       "      <td>0.0</td>\n",
       "      <td>...</td>\n",
       "      <td>0.0</td>\n",
       "      <td>0.0</td>\n",
       "      <td>0.0</td>\n",
       "      <td>0.0</td>\n",
       "      <td>0.0</td>\n",
       "      <td>0.0</td>\n",
       "      <td>0.0</td>\n",
       "      <td>0.0</td>\n",
       "      <td>1.0</td>\n",
       "      <td>0.0</td>\n",
       "    </tr>\n",
       "    <tr>\n",
       "      <th>1</th>\n",
       "      <td>0.827377</td>\n",
       "      <td>1.355510</td>\n",
       "      <td>0.432793</td>\n",
       "      <td>-0.473674</td>\n",
       "      <td>-0.507479</td>\n",
       "      <td>0.0</td>\n",
       "      <td>0.0</td>\n",
       "      <td>0.0</td>\n",
       "      <td>0.0</td>\n",
       "      <td>0.0</td>\n",
       "      <td>...</td>\n",
       "      <td>0.0</td>\n",
       "      <td>0.0</td>\n",
       "      <td>0.0</td>\n",
       "      <td>0.0</td>\n",
       "      <td>0.0</td>\n",
       "      <td>0.0</td>\n",
       "      <td>0.0</td>\n",
       "      <td>0.0</td>\n",
       "      <td>0.0</td>\n",
       "      <td>1.0</td>\n",
       "    </tr>\n",
       "    <tr>\n",
       "      <th>2</th>\n",
       "      <td>-0.369365</td>\n",
       "      <td>2.508257</td>\n",
       "      <td>-0.474545</td>\n",
       "      <td>-0.473674</td>\n",
       "      <td>-0.453367</td>\n",
       "      <td>0.0</td>\n",
       "      <td>0.0</td>\n",
       "      <td>0.0</td>\n",
       "      <td>0.0</td>\n",
       "      <td>0.0</td>\n",
       "      <td>...</td>\n",
       "      <td>0.0</td>\n",
       "      <td>0.0</td>\n",
       "      <td>0.0</td>\n",
       "      <td>0.0</td>\n",
       "      <td>0.0</td>\n",
       "      <td>0.0</td>\n",
       "      <td>0.0</td>\n",
       "      <td>0.0</td>\n",
       "      <td>1.0</td>\n",
       "      <td>0.0</td>\n",
       "    </tr>\n",
       "    <tr>\n",
       "      <th>3</th>\n",
       "      <td>0.827377</td>\n",
       "      <td>-0.181487</td>\n",
       "      <td>-0.474545</td>\n",
       "      <td>-0.473674</td>\n",
       "      <td>-0.474005</td>\n",
       "      <td>0.0</td>\n",
       "      <td>0.0</td>\n",
       "      <td>0.0</td>\n",
       "      <td>0.0</td>\n",
       "      <td>0.0</td>\n",
       "      <td>...</td>\n",
       "      <td>0.0</td>\n",
       "      <td>0.0</td>\n",
       "      <td>0.0</td>\n",
       "      <td>0.0</td>\n",
       "      <td>0.0</td>\n",
       "      <td>0.0</td>\n",
       "      <td>0.0</td>\n",
       "      <td>0.0</td>\n",
       "      <td>0.0</td>\n",
       "      <td>1.0</td>\n",
       "    </tr>\n",
       "    <tr>\n",
       "      <th>4</th>\n",
       "      <td>0.827377</td>\n",
       "      <td>-0.565736</td>\n",
       "      <td>0.432793</td>\n",
       "      <td>0.767630</td>\n",
       "      <td>-0.401017</td>\n",
       "      <td>0.0</td>\n",
       "      <td>0.0</td>\n",
       "      <td>0.0</td>\n",
       "      <td>0.0</td>\n",
       "      <td>0.0</td>\n",
       "      <td>...</td>\n",
       "      <td>0.0</td>\n",
       "      <td>0.0</td>\n",
       "      <td>0.0</td>\n",
       "      <td>0.0</td>\n",
       "      <td>0.0</td>\n",
       "      <td>0.0</td>\n",
       "      <td>0.0</td>\n",
       "      <td>0.0</td>\n",
       "      <td>0.0</td>\n",
       "      <td>1.0</td>\n",
       "    </tr>\n",
       "  </tbody>\n",
       "</table>\n",
       "<p>5 rows × 986 columns</p>\n",
       "</div>"
      ],
      "text/plain": [
       "   num__Pclass  num__Age  num__SibSp  num__Parch  num__Fare  cat1__Cabin_A10  \\\n",
       "0     0.827377  0.394887   -0.474545   -0.473674  -0.490783              0.0   \n",
       "1     0.827377  1.355510    0.432793   -0.473674  -0.507479              0.0   \n",
       "2    -0.369365  2.508257   -0.474545   -0.473674  -0.453367              0.0   \n",
       "3     0.827377 -0.181487   -0.474545   -0.473674  -0.474005              0.0   \n",
       "4     0.827377 -0.565736    0.432793    0.767630  -0.401017              0.0   \n",
       "\n",
       "   cat1__Cabin_A14  cat1__Cabin_A16  cat1__Cabin_A19  cat1__Cabin_A20  ...  \\\n",
       "0              0.0              0.0              0.0              0.0  ...   \n",
       "1              0.0              0.0              0.0              0.0  ...   \n",
       "2              0.0              0.0              0.0              0.0  ...   \n",
       "3              0.0              0.0              0.0              0.0  ...   \n",
       "4              0.0              0.0              0.0              0.0  ...   \n",
       "\n",
       "   cat2__Cabin_F G73  cat2__Cabin_F2  cat2__Cabin_F33  cat2__Cabin_F38  \\\n",
       "0                0.0             0.0              0.0              0.0   \n",
       "1                0.0             0.0              0.0              0.0   \n",
       "2                0.0             0.0              0.0              0.0   \n",
       "3                0.0             0.0              0.0              0.0   \n",
       "4                0.0             0.0              0.0              0.0   \n",
       "\n",
       "   cat2__Cabin_F4  cat2__Cabin_G6  cat2__Cabin_T  cat2__Embarked_C  \\\n",
       "0             0.0             0.0            0.0               0.0   \n",
       "1             0.0             0.0            0.0               0.0   \n",
       "2             0.0             0.0            0.0               0.0   \n",
       "3             0.0             0.0            0.0               0.0   \n",
       "4             0.0             0.0            0.0               0.0   \n",
       "\n",
       "   cat2__Embarked_Q  cat2__Embarked_S  \n",
       "0               1.0               0.0  \n",
       "1               0.0               1.0  \n",
       "2               1.0               0.0  \n",
       "3               0.0               1.0  \n",
       "4               0.0               1.0  \n",
       "\n",
       "[5 rows x 986 columns]"
      ]
     },
     "execution_count": 80,
     "metadata": {},
     "output_type": "execute_result"
    }
   ],
   "source": [
    "xnew = pd.DataFrame(xnew,columns=cols)\n",
    "xnew.head()"
   ]
  },
  {
   "cell_type": "code",
   "execution_count": 81,
   "metadata": {},
   "outputs": [],
   "source": [
    "prob = best_lr.predict_proba(xnew)[:,-1]\n",
    "pred = best_lr.predict(xnew)"
   ]
  },
  {
   "cell_type": "code",
   "execution_count": 82,
   "metadata": {},
   "outputs": [],
   "source": [
    "df_final = df2[['PassengerId']]"
   ]
  },
  {
   "cell_type": "code",
   "execution_count": 83,
   "metadata": {},
   "outputs": [],
   "source": [
    "df_final['Survived_pred']=pred\n",
    "df_final['Survived_prob']=prob"
   ]
  },
  {
   "cell_type": "code",
   "execution_count": 84,
   "metadata": {},
   "outputs": [
    {
     "data": {
      "text/html": [
       "<div>\n",
       "<style scoped>\n",
       "    .dataframe tbody tr th:only-of-type {\n",
       "        vertical-align: middle;\n",
       "    }\n",
       "\n",
       "    .dataframe tbody tr th {\n",
       "        vertical-align: top;\n",
       "    }\n",
       "\n",
       "    .dataframe thead th {\n",
       "        text-align: right;\n",
       "    }\n",
       "</style>\n",
       "<table border=\"1\" class=\"dataframe\">\n",
       "  <thead>\n",
       "    <tr style=\"text-align: right;\">\n",
       "      <th></th>\n",
       "      <th>PassengerId</th>\n",
       "      <th>Survived_pred</th>\n",
       "      <th>Survived_prob</th>\n",
       "    </tr>\n",
       "  </thead>\n",
       "  <tbody>\n",
       "    <tr>\n",
       "      <th>0</th>\n",
       "      <td>892</td>\n",
       "      <td>0</td>\n",
       "      <td>0.015858</td>\n",
       "    </tr>\n",
       "    <tr>\n",
       "      <th>1</th>\n",
       "      <td>893</td>\n",
       "      <td>0</td>\n",
       "      <td>0.323387</td>\n",
       "    </tr>\n",
       "    <tr>\n",
       "      <th>2</th>\n",
       "      <td>894</td>\n",
       "      <td>0</td>\n",
       "      <td>0.007334</td>\n",
       "    </tr>\n",
       "    <tr>\n",
       "      <th>3</th>\n",
       "      <td>895</td>\n",
       "      <td>0</td>\n",
       "      <td>0.019665</td>\n",
       "    </tr>\n",
       "    <tr>\n",
       "      <th>4</th>\n",
       "      <td>896</td>\n",
       "      <td>1</td>\n",
       "      <td>0.881058</td>\n",
       "    </tr>\n",
       "    <tr>\n",
       "      <th>...</th>\n",
       "      <td>...</td>\n",
       "      <td>...</td>\n",
       "      <td>...</td>\n",
       "    </tr>\n",
       "    <tr>\n",
       "      <th>413</th>\n",
       "      <td>1305</td>\n",
       "      <td>0</td>\n",
       "      <td>0.018137</td>\n",
       "    </tr>\n",
       "    <tr>\n",
       "      <th>414</th>\n",
       "      <td>1306</td>\n",
       "      <td>1</td>\n",
       "      <td>0.983916</td>\n",
       "    </tr>\n",
       "    <tr>\n",
       "      <th>415</th>\n",
       "      <td>1307</td>\n",
       "      <td>0</td>\n",
       "      <td>0.007920</td>\n",
       "    </tr>\n",
       "    <tr>\n",
       "      <th>416</th>\n",
       "      <td>1308</td>\n",
       "      <td>0</td>\n",
       "      <td>0.018137</td>\n",
       "    </tr>\n",
       "    <tr>\n",
       "      <th>417</th>\n",
       "      <td>1309</td>\n",
       "      <td>0</td>\n",
       "      <td>0.124969</td>\n",
       "    </tr>\n",
       "  </tbody>\n",
       "</table>\n",
       "<p>418 rows × 3 columns</p>\n",
       "</div>"
      ],
      "text/plain": [
       "     PassengerId  Survived_pred  Survived_prob\n",
       "0            892              0       0.015858\n",
       "1            893              0       0.323387\n",
       "2            894              0       0.007334\n",
       "3            895              0       0.019665\n",
       "4            896              1       0.881058\n",
       "..           ...            ...            ...\n",
       "413         1305              0       0.018137\n",
       "414         1306              1       0.983916\n",
       "415         1307              0       0.007920\n",
       "416         1308              0       0.018137\n",
       "417         1309              0       0.124969\n",
       "\n",
       "[418 rows x 3 columns]"
      ]
     },
     "execution_count": 84,
     "metadata": {},
     "output_type": "execute_result"
    }
   ],
   "source": [
    "df_final"
   ]
  },
  {
   "cell_type": "code",
   "execution_count": 85,
   "metadata": {},
   "outputs": [
    {
     "data": {
      "text/plain": [
       "Survived_pred\n",
       "0    262\n",
       "1    156\n",
       "Name: count, dtype: int64"
      ]
     },
     "execution_count": 85,
     "metadata": {},
     "output_type": "execute_result"
    }
   ],
   "source": [
    "df_final['Survived_pred'].value_counts()"
   ]
  },
  {
   "cell_type": "code",
   "execution_count": 86,
   "metadata": {},
   "outputs": [
    {
     "data": {
      "text/plain": [
       "<Axes: xlabel='Survived_pred'>"
      ]
     },
     "execution_count": 86,
     "metadata": {},
     "output_type": "execute_result"
    },
    {
     "data": {
      "image/png": "[encoded data removed]",
      "text/plain": [
       "<Figure size 640x480 with 1 Axes>"
      ]
     },
     "metadata": {},
     "output_type": "display_data"
    }
   ],
   "source": [
    "df_final['Survived_pred'].value_counts().plot(kind='bar')"
   ]
  },
  {
   "cell_type": "code",
   "execution_count": 87,
   "metadata": {},
   "outputs": [
    {
     "data": {
      "text/plain": [
       "<Axes: xlabel='Survived_prob', ylabel='Count'>"
      ]
     },
     "execution_count": 87,
     "metadata": {},
     "output_type": "execute_result"
    },
    {
     "data": {
      "image/png": "[encoded data removed]",
      "text/plain": [
       "<Figure size 640x480 with 1 Axes>"
      ]
     },
     "metadata": {},
     "output_type": "display_data"
    }
   ],
   "source": [
    "import seaborn as sns\n",
    "sns.histplot(data=df_final,x='Survived_prob',kde=True)"
   ]
  },
  {
   "attachments": {},
   "cell_type": "markdown",
   "metadata": {},
   "source": [
    "Store the DataFrame in predictions.csv"
   ]
  },
  {
   "cell_type": "code",
   "execution_count": 88,
   "metadata": {},
   "outputs": [],
   "source": [
    "df_final.to_csv('pred_csv',index=False)"
   ]
  },
  {
   "cell_type": "code",
   "execution_count": null,
   "metadata": {},
   "outputs": [],
   "source": []
  }
 ],
 "metadata": {
  "kernelspec": {
   "display_name": "venv",
   "language": "python",
   "name": "python3"
  },
  "language_info": {
   "codemirror_mode": {
    "name": "ipython",
    "version": 3
   },
   "file_extension": ".py",
   "mimetype": "text/x-python",
   "name": "python",
   "nbconvert_exporter": "python",
   "pygments_lexer": "ipython3",
   "version": "3.11.3"
  },
  "orig_nbformat": 4
 },
 "nbformat": 4,
 "nbformat_minor": 2
}
